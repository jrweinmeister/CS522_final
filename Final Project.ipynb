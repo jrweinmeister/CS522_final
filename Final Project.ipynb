{
 "cells": [
  {
   "cell_type": "markdown",
   "metadata": {
    "id": "onWDuDrDOUzI"
   },
   "source": [
    "## Import Libraries"
   ]
  },
  {
   "cell_type": "code",
   "execution_count": 1,
   "metadata": {
    "executionInfo": {
     "elapsed": 3808,
     "status": "ok",
     "timestamp": 1669076076153,
     "user": {
      "displayName": "Justin Weinmeister",
      "userId": "08097657376930797622"
     },
     "user_tz": 300
    },
    "id": "dXptQZVP7haW"
   },
   "outputs": [],
   "source": [
    "import os\n",
    "import numpy as np\n",
    "import pandas as pd\n",
    "import scipy as sc\n",
    "from scipy import signal\n",
    "import matplotlib.pyplot as plt\n",
    "import scipy.io.wavfile as wavfile\n",
    "import cv2\n",
    "import librosa\n",
    "\n",
    "# Import sci-kit models\n",
    "from sklearn.preprocessing import OneHotEncoder, RobustScaler\n",
    "from sklearn.ensemble import RandomForestClassifier\n",
    "from sklearn.model_selection import StratifiedKFold\n",
    "from sklearn.metrics import confusion_matrix"
   ]
  },
  {
   "cell_type": "markdown",
   "metadata": {
    "id": "VrkDhTp6OfaC"
   },
   "source": [
    "## Load Data"
   ]
  },
  {
   "cell_type": "code",
   "execution_count": 8,
   "metadata": {
    "executionInfo": {
     "elapsed": 7,
     "status": "ok",
     "timestamp": 1669076076154,
     "user": {
      "displayName": "Justin Weinmeister",
      "userId": "08097657376930797622"
     },
     "user_tz": 300
    },
    "id": "ugxJ8jLPz-o3"
   },
   "outputs": [],
   "source": [
    "# Launch Jupyter Notebook from the project folder\n",
    "root_path = os.getcwd()\n",
    "# Data is stored in the folder named \"Data\"\n",
    "path = os.path.join(root_path, 'Data')"
   ]
  },
  {
   "cell_type": "code",
   "execution_count": 23,
   "metadata": {
    "colab": {
     "base_uri": "https://localhost:8080/"
    },
    "executionInfo": {
     "elapsed": 50522,
     "status": "ok",
     "timestamp": 1669076126671,
     "user": {
      "displayName": "Justin Weinmeister",
      "userId": "08097657376930797622"
     },
     "user_tz": 300
    },
    "id": "8P_apSHQ0Xh4",
    "outputId": "1a3e776c-1d27-45d3-b42b-05a5adbf1e47"
   },
   "outputs": [
    {
     "name": "stdout",
     "output_type": "stream",
     "text": [
      "D-bifircus-D-parviceps-LS100120.WAV\n",
      "44100\n",
      "-1221888\n",
      "<class 'numpy.ndarray'>\n",
      "\n",
      "D-bifurcus-sc10743.wav\n",
      "44100\n",
      "-95\n",
      "<class 'numpy.ndarray'>\n",
      "\n",
      "Dbifurcus2.WAV\n",
      "48000\n",
      "100096\n",
      "<class 'numpy.ndarray'>\n",
      "Warning: Data in Dbifurcus2.WAV not sampled at 44.1 kHz!\n",
      "Sampled at 48000\n",
      "\n",
      "Drhodopeplusbifurcus2_Daniel1.WAV\n",
      "48000\n",
      "79037440\n",
      "<class 'numpy.ndarray'>\n",
      "Warning: Data in Drhodopeplusbifurcus2_Daniel1.WAV not sampled at 44.1 kHz!\n",
      "Sampled at 48000\n",
      "\n",
      "LS100120.WAV\n",
      "44100\n",
      "-1221888\n",
      "<class 'numpy.ndarray'>\n",
      "\n",
      "LS100303 D. bifurcus sc38590mono.WAV\n",
      "44100\n",
      "498944\n",
      "<class 'numpy.ndarray'>\n",
      "\n",
      "LS100536.WAV\n",
      "44100\n",
      "15\n",
      "<class 'numpy.ndarray'>\n",
      "\n",
      "LS100582.WAV\n"
     ]
    },
    {
     "name": "stderr",
     "output_type": "stream",
     "text": [
      "C:\\Users\\14w\\AppData\\Local\\Temp\\ipykernel_26676\\2532551335.py:14: WavFileWarning: Chunk (non-data) not understood, skipping it.\n",
      "  fs_data, y = wavfile.read(os.path.join(class_path, filename))\n"
     ]
    },
    {
     "name": "stdout",
     "output_type": "stream",
     "text": [
      "44100\n",
      "12234240\n",
      "<class 'numpy.ndarray'>\n",
      "\n",
      "LS100584.WAV\n",
      "44100\n",
      "7324416\n",
      "<class 'numpy.ndarray'>\n",
      "\n",
      "LS100594.WAV\n",
      "44100\n",
      "7713792\n",
      "<class 'numpy.ndarray'>\n",
      "\n",
      "1017-sc28418-E-petersi-km22mono.WAV\n",
      "44100\n",
      "305\n",
      "<class 'numpy.ndarray'>\n",
      "\n",
      "1019-sc28436-E-petersi-km10_Daniel1.WAV\n",
      "44100\n",
      "-339\n",
      "<class 'numpy.ndarray'>\n",
      "\n",
      "1020-sc-28437-E-petersi-km10MONO_Daniel1.WAV\n",
      "44100\n",
      "46268416\n",
      "<class 'numpy.ndarray'>\n",
      "\n",
      "1021-sc28494-E-petersi.WAV\n",
      "44100\n",
      "279\n",
      "<class 'numpy.ndarray'>\n",
      "\n",
      "E-petersi-km-40-sc10741.WAV\n",
      "44100\n",
      "0\n",
      "<class 'numpy.ndarray'>\n",
      "\n",
      "E-petersi-sc28417-km22.WAV\n",
      "44100\n",
      "-2309\n",
      "<class 'numpy.ndarray'>\n",
      "\n",
      "E-petesi-sc28416-km22.WAV\n",
      "44100\n",
      "8\n",
      "<class 'numpy.ndarray'>\n",
      "\n",
      "Epetersi2_Daniel1.WAV\n",
      "48000\n",
      "171103488\n",
      "<class 'numpy.ndarray'>\n",
      "Warning: Data in Epetersi2_Daniel1.WAV not sampled at 44.1 kHz!\n",
      "Sampled at 48000\n",
      "\n",
      "Epetersi3_Daniel.WAV\n",
      "48000\n",
      "-601856\n",
      "<class 'numpy.ndarray'>\n",
      "Warning: Data in Epetersi3_Daniel.WAV not sampled at 44.1 kHz!\n",
      "Sampled at 48000\n",
      "\n",
      "Epetersi_Daniel1.WAV\n",
      "48000\n",
      "667904\n",
      "<class 'numpy.ndarray'>\n",
      "Warning: Data in Epetersi_Daniel1.WAV not sampled at 44.1 kHz!\n",
      "Sampled at 48000\n",
      "\n",
      "LS100150 E. petersi sc28466.WAV\n",
      "44100\n",
      "-55030784\n",
      "<class 'numpy.ndarray'>\n",
      "\n",
      "LS100158 E. petersi no capturado_Daniel1.WAV\n",
      "48000\n",
      "154278400\n",
      "<class 'numpy.ndarray'>\n",
      "Warning: Data in LS100158 E. petersi no capturado_Daniel1.WAV not sampled at 44.1 kHz!\n",
      "Sampled at 48000\n",
      "\n",
      "LS100307.WAV\n",
      "44100\n",
      "-19871744\n",
      "<class 'numpy.ndarray'>\n",
      "\n",
      "LS100308- Pristimantis conspicillatus.WAV\n",
      "44100\n",
      "-14368512\n",
      "<class 'numpy.ndarray'>\n",
      "\n",
      "LS100309sc37073.WAV\n",
      "44100\n",
      "-223488\n",
      "<class 'numpy.ndarray'>\n",
      "\n",
      "LS100313- Pristimantis conspicillatus.WAV\n",
      "44100\n",
      "1090048\n",
      "<class 'numpy.ndarray'>\n",
      "\n",
      "LS100319Pconspicillatus.wav\n",
      "44100\n",
      "41472\n",
      "<class 'numpy.ndarray'>\n",
      "\n",
      "LS100325sc37213 mn.wav\n",
      "44100\n",
      "-19\n",
      "<class 'numpy.ndarray'>\n",
      "\n",
      "LS100326SC37214 mn_Daniel.wav\n",
      "44100\n",
      "-3\n",
      "<class 'numpy.ndarray'>\n",
      "\n",
      "LS100329sc37220 mn conspicillatus_Daniel2.wav\n",
      "44100\n",
      "-3932160\n",
      "<class 'numpy.ndarray'>\n",
      "\n",
      "LS100456 P. conspicillatus.WAV\n",
      "44100\n",
      "-4\n",
      "<class 'numpy.ndarray'>\n",
      "\n"
     ]
    }
   ],
   "source": [
    "# Create data lists\n",
    "samples = []\n",
    "labels = []\n",
    "classes = os.listdir(path)\n",
    "\n",
    "for file in os.listdir(path):\n",
    "    class_path = os.path.join(path, file)\n",
    "    for filename in os.listdir(class_path):\n",
    "        print(filename)\n",
    "\n",
    "        # Define sample rate\n",
    "        fs = 44100\n",
    "\n",
    "        fs_data, y = wavfile.read(os.path.join(class_path, filename))\n",
    "        if len(y.shape) == 2:\n",
    "            y = y[:,0]\n",
    "        print(fs_data)\n",
    "        print(y[2570])\n",
    "        print(type(y))\n",
    "\n",
    "        if fs_data == fs:\n",
    "            labels.append([file])\n",
    "            samples.append(y)\n",
    "        else:\n",
    "            print('Warning: Data in {} not sampled at 44.1 kHz!'.format(filename))\n",
    "            print(f'Sampled at {fs_data}')\n",
    "            # TODO: Down sample data that is not 44.1 kHz (most seem to be 48.0 kHz)\n",
    "\n",
    "        print()\n",
    "      # break"
   ]
  },
  {
   "cell_type": "code",
   "execution_count": 63,
   "metadata": {
    "colab": {
     "base_uri": "https://localhost:8080/"
    },
    "executionInfo": {
     "elapsed": 22,
     "status": "ok",
     "timestamp": 1669076126672,
     "user": {
      "displayName": "Justin Weinmeister",
      "userId": "08097657376930797622"
     },
     "user_tz": 300
    },
    "id": "c1iFq_ETMgBi",
    "outputId": "3e5746a8-48b4-4c6b-aabe-f2be12dcd93c"
   },
   "outputs": [
    {
     "name": "stdout",
     "output_type": "stream",
     "text": [
      "Loaded data from the directory C:\\Users\\14w\\Documents\\CS522_final\\Data \n",
      "\n",
      "Loaded the classes: ['Dendropsophus bifurcus', 'Engystomops petersi', 'Pristimantis conspicillatus'] \n",
      "\n",
      "Loaded 25 samples with 25 labels \n",
      "\n",
      "Sample  0: \t 105.8s \t ['Dendropsophus bifurcus']\n",
      "Sample  1: \t 593.1s \t ['Dendropsophus bifurcus']\n",
      "Sample  2: \t 105.8s \t ['Dendropsophus bifurcus']\n",
      "Sample  3: \t 240.3s \t ['Dendropsophus bifurcus']\n",
      "Sample  4: \t 313.6s \t ['Dendropsophus bifurcus']\n",
      "Sample  5: \t 409.2s \t ['Dendropsophus bifurcus']\n",
      "Sample  6: \t 208.7s \t ['Dendropsophus bifurcus']\n",
      "Sample  7: \t 317.8s \t ['Dendropsophus bifurcus']\n",
      "Sample  8: \t 512.6s \t ['Engystomops petersi']\n",
      "Sample  9: \t 419.5s \t ['Engystomops petersi']\n",
      "Sample 10: \t 368.0s \t ['Engystomops petersi']\n",
      "Sample 11: \t 320.0s \t ['Engystomops petersi']\n",
      "Sample 12: \t 641.0s \t ['Engystomops petersi']\n",
      "Sample 13: \t 1018.6s \t ['Engystomops petersi']\n",
      "Sample 14: \t 504.0s \t ['Engystomops petersi']\n",
      "Sample 15: \t 356.8s \t ['Engystomops petersi']\n",
      "Sample 16: \t 264.1s \t ['Pristimantis conspicillatus']\n",
      "Sample 17: \t 227.3s \t ['Pristimantis conspicillatus']\n",
      "Sample 18: \t 203.4s \t ['Pristimantis conspicillatus']\n",
      "Sample 19: \t 307.5s \t ['Pristimantis conspicillatus']\n",
      "Sample 20: \t 119.8s \t ['Pristimantis conspicillatus']\n",
      "Sample 21: \t 235.8s \t ['Pristimantis conspicillatus']\n",
      "Sample 22: \t 200.5s \t ['Pristimantis conspicillatus']\n",
      "Sample 23: \t 257.5s \t ['Pristimantis conspicillatus']\n",
      "Sample 24: \t 80.8s \t ['Pristimantis conspicillatus']\n"
     ]
    }
   ],
   "source": [
    "print('Loaded data from the directory {} \\n'.format(path))\n",
    "print('Loaded the classes: {} \\n'.format(classes))\n",
    "print('Loaded {} samples with {} labels \\n'.format(len(samples), len(labels)))\n",
    "\n",
    "# Check lengths of samples\n",
    "for idx, sample in enumerate(samples):\n",
    "  print('Sample {:2}: \\t {:.1f}s \\t {}'.format(idx, len(sample)/44100, labels[idx]))"
   ]
  },
  {
   "cell_type": "markdown",
   "metadata": {
    "id": "LpDV974SVO1R"
   },
   "source": [
    "## Encode labels"
   ]
  },
  {
   "cell_type": "code",
   "execution_count": 64,
   "metadata": {
    "colab": {
     "base_uri": "https://localhost:8080/"
    },
    "executionInfo": {
     "elapsed": 17,
     "status": "ok",
     "timestamp": 1669076126672,
     "user": {
      "displayName": "Justin Weinmeister",
      "userId": "08097657376930797622"
     },
     "user_tz": 300
    },
    "id": "yFm7OkhQVNeo",
    "outputId": "c3e3bacd-fc1a-4f31-c668-e916f1fd4850"
   },
   "outputs": [
    {
     "name": "stdout",
     "output_type": "stream",
     "text": [
      "Encoding is [1. 0. 0.], label is ['Dendropsophus bifurcus']\n",
      "Encoding is [1. 0. 0.], label is ['Dendropsophus bifurcus']\n",
      "Encoding is [1. 0. 0.], label is ['Dendropsophus bifurcus']\n",
      "Encoding is [1. 0. 0.], label is ['Dendropsophus bifurcus']\n",
      "Encoding is [1. 0. 0.], label is ['Dendropsophus bifurcus']\n",
      "Encoding is [1. 0. 0.], label is ['Dendropsophus bifurcus']\n",
      "Encoding is [1. 0. 0.], label is ['Dendropsophus bifurcus']\n",
      "Encoding is [1. 0. 0.], label is ['Dendropsophus bifurcus']\n",
      "Encoding is [0. 1. 0.], label is ['Engystomops petersi']\n",
      "Encoding is [0. 1. 0.], label is ['Engystomops petersi']\n",
      "Encoding is [0. 1. 0.], label is ['Engystomops petersi']\n",
      "Encoding is [0. 1. 0.], label is ['Engystomops petersi']\n",
      "Encoding is [0. 1. 0.], label is ['Engystomops petersi']\n",
      "Encoding is [0. 1. 0.], label is ['Engystomops petersi']\n",
      "Encoding is [0. 1. 0.], label is ['Engystomops petersi']\n",
      "Encoding is [0. 1. 0.], label is ['Engystomops petersi']\n",
      "Encoding is [0. 0. 1.], label is ['Pristimantis conspicillatus']\n",
      "Encoding is [0. 0. 1.], label is ['Pristimantis conspicillatus']\n",
      "Encoding is [0. 0. 1.], label is ['Pristimantis conspicillatus']\n",
      "Encoding is [0. 0. 1.], label is ['Pristimantis conspicillatus']\n",
      "Encoding is [0. 0. 1.], label is ['Pristimantis conspicillatus']\n",
      "Encoding is [0. 0. 1.], label is ['Pristimantis conspicillatus']\n",
      "Encoding is [0. 0. 1.], label is ['Pristimantis conspicillatus']\n",
      "Encoding is [0. 0. 1.], label is ['Pristimantis conspicillatus']\n",
      "Encoding is [0. 0. 1.], label is ['Pristimantis conspicillatus']\n"
     ]
    }
   ],
   "source": [
    "# Reshape classes list\n",
    "unique_classes = [[c] for c in classes]\n",
    "\n",
    "# Create encoder, fit, and check encoding\n",
    "enc = OneHotEncoder()\n",
    "enc.fit(unique_classes)\n",
    "enc_labels = enc.transform(labels).toarray()\n",
    "for idx, item in enumerate(enc_labels):\n",
    "    print('Encoding is {}, label is {}'.format(enc_labels[idx], labels[idx]))"
   ]
  },
  {
   "cell_type": "markdown",
   "metadata": {
    "id": "szbETrq7cvJx"
   },
   "source": [
    "## Get Spectrograms"
   ]
  },
  {
   "cell_type": "code",
   "execution_count": 65,
   "metadata": {
    "executionInfo": {
     "elapsed": 15,
     "status": "ok",
     "timestamp": 1669076126673,
     "user": {
      "displayName": "Justin Weinmeister",
      "userId": "08097657376930797622"
     },
     "user_tz": 300
    },
    "id": "fziIJu_wXRpf"
   },
   "outputs": [],
   "source": [
    "def get_spectrograms(time_data, FFT_SIZE=1024, fs=44100):\n",
    "    ## Compute Fast Fourier Transform of data\n",
    "    # Create FFT lists\n",
    "    pxx = []\n",
    "    \n",
    "    print(\"Calculating FFTs for data ...\")\n",
    "    for sample in time_data:\n",
    "        # flatten() is used because some of the data is stereo rather than mono. This results in having\n",
    "        # two data points for each data point rather than 1, and something like (# data points, 2) vs. (# data points, ).\n",
    "        # flatten(), flattens out the second dimension, resulting in (2x # data points, )\n",
    "#             if windows is True:\n",
    "        _, _, pxx_idx = signal.spectrogram(sample, nperseg=FFT_SIZE, fs=fs, noverlap=FFT_SIZE/2)\n",
    "        \n",
    "        pxx.append(pxx_idx)\n",
    "                            \n",
    "    print('Calculated all FFTs')\n",
    "\n",
    "    return pxx.copy()"
   ]
  },
  {
   "cell_type": "code",
   "execution_count": 66,
   "metadata": {
    "colab": {
     "base_uri": "https://localhost:8080/"
    },
    "executionInfo": {
     "elapsed": 20204,
     "status": "ok",
     "timestamp": 1669076146863,
     "user": {
      "displayName": "Justin Weinmeister",
      "userId": "08097657376930797622"
     },
     "user_tz": 300
    },
    "id": "KbNO827WXgUW",
    "outputId": "a302b663-51d8-4f8e-c29e-1564d162b729"
   },
   "outputs": [
    {
     "name": "stdout",
     "output_type": "stream",
     "text": [
      "Calculating FFTs for data ...\n",
      "Calculated all FFTs\n"
     ]
    }
   ],
   "source": [
    "specs = get_spectrograms(samples)"
   ]
  },
  {
   "cell_type": "code",
   "execution_count": 67,
   "metadata": {
    "colab": {
     "base_uri": "https://localhost:8080/"
    },
    "executionInfo": {
     "elapsed": 18,
     "status": "ok",
     "timestamp": 1669076146863,
     "user": {
      "displayName": "Justin Weinmeister",
      "userId": "08097657376930797622"
     },
     "user_tz": 300
    },
    "id": "4RjKH8pDZAMa",
    "outputId": "f49e1152-9169-45c1-d113-6a62b5986efa"
   },
   "outputs": [
    {
     "name": "stdout",
     "output_type": "stream",
     "text": [
      "25\n",
      "513\n",
      "9111\n"
     ]
    }
   ],
   "source": [
    "print(len(specs))\n",
    "print(len(specs[0]))\n",
    "print(len(specs[0][0]))"
   ]
  },
  {
   "cell_type": "markdown",
   "metadata": {
    "id": "R6ddv2pYctF1"
   },
   "source": [
    "## Binning Data"
   ]
  },
  {
   "cell_type": "code",
   "execution_count": 68,
   "metadata": {
    "executionInfo": {
     "elapsed": 13,
     "status": "ok",
     "timestamp": 1669076146864,
     "user": {
      "displayName": "Justin Weinmeister",
      "userId": "08097657376930797622"
     },
     "user_tz": 300
    },
    "id": "CXo9zG8xcsnf"
   },
   "outputs": [],
   "source": [
    "def get_bins(spec_data, num_freq_bins=5, num_time_bins=5):\n",
    "    binned_data = []\n",
    "        \n",
    "    # Get individual samples\n",
    "    for s in spec_data:\n",
    "        #Open CV's resize takes (columns,rows) as the input for desired size\n",
    "        resized_pxx=cv2.resize(s[:,:],(num_time_bins,num_freq_bins))\n",
    "        binned_data.append(resized_pxx.flatten())\n",
    "            \n",
    "    return binned_data"
   ]
  },
  {
   "cell_type": "code",
   "execution_count": 69,
   "metadata": {
    "executionInfo": {
     "elapsed": 2564,
     "status": "ok",
     "timestamp": 1669076149416,
     "user": {
      "displayName": "Justin Weinmeister",
      "userId": "08097657376930797622"
     },
     "user_tz": 300
    },
    "id": "gpqMD2dFc2p_"
   },
   "outputs": [],
   "source": [
    "binned_data = get_bins(specs)"
   ]
  },
  {
   "cell_type": "code",
   "execution_count": 70,
   "metadata": {
    "colab": {
     "base_uri": "https://localhost:8080/"
    },
    "executionInfo": {
     "elapsed": 17,
     "status": "ok",
     "timestamp": 1669076149417,
     "user": {
      "displayName": "Justin Weinmeister",
      "userId": "08097657376930797622"
     },
     "user_tz": 300
    },
    "id": "FCZyliySdqWt",
    "outputId": "b496e051-6580-4de4-a24e-ce3d5a2dd7a2"
   },
   "outputs": [
    {
     "name": "stdout",
     "output_type": "stream",
     "text": [
      "(25, 25)\n"
     ]
    }
   ],
   "source": [
    "b = np.array(binned_data)\n",
    "print(b.shape)"
   ]
  },
  {
   "cell_type": "markdown",
   "metadata": {
    "id": "TqEn4D-acb_b"
   },
   "source": [
    "## Get Freq-Windows"
   ]
  },
  {
   "cell_type": "code",
   "execution_count": 71,
   "metadata": {
    "executionInfo": {
     "elapsed": 11,
     "status": "ok",
     "timestamp": 1669076149417,
     "user": {
      "displayName": "Justin Weinmeister",
      "userId": "08097657376930797622"
     },
     "user_tz": 300
    },
    "id": "KGspW27Rce5H"
   },
   "outputs": [],
   "source": [
    "def get_freq_windows(time_data, len_window=1, overlap=0, sample_rate=10):\n",
    "    len_data = time_data.shape[1]\n",
    "#     print(len_data)\n",
    "    \n",
    "    windows = []\n",
    "    \n",
    "    # How far the window should shift\n",
    "    if overlap == 0:\n",
    "        step = len_window\n",
    "        \n",
    "        start = 0\n",
    "        stop = step\n",
    "#         print(len_window)\n",
    "        for n in range(int(len_data/len_window)):\n",
    "            windows.append(time_data[:, start:stop])\n",
    "            \n",
    "#             print(start)\n",
    "#             print(stop)\n",
    "#             print()\n",
    "            start = start + step\n",
    "            stop = stop + step\n",
    "            \n",
    "            if start > len_data or stop > len_data:\n",
    "                break\n",
    "    else:\n",
    "        step = int(len_window*overlap)\n",
    "        \n",
    "        start = 0\n",
    "        stop = len_window\n",
    "        \n",
    "#         print(len_window)\n",
    "        for n in range(int(len_data/step)):\n",
    "            windows.append(time_data[:, start:stop])\n",
    "            \n",
    "#             print(start)\n",
    "#             print(stop)\n",
    "#             print()\n",
    "            start = start + step\n",
    "            stop = stop + step\n",
    "            \n",
    "            if start > len_data or stop > len_data:\n",
    "                break\n",
    "        \n",
    "    return windows"
   ]
  },
  {
   "cell_type": "code",
   "execution_count": 72,
   "metadata": {
    "colab": {
     "base_uri": "https://localhost:8080/",
     "height": 235
    },
    "executionInfo": {
     "elapsed": 312,
     "status": "error",
     "timestamp": 1669076149718,
     "user": {
      "displayName": "Justin Weinmeister",
      "userId": "08097657376930797622"
     },
     "user_tz": 300
    },
    "id": "S3lhNbcqc2Wd",
    "outputId": "405de2b9-8db4-4179-f217-6b077560de99"
   },
   "outputs": [
    {
     "ename": "NameError",
     "evalue": "name 'get_windows' is not defined",
     "output_type": "error",
     "traceback": [
      "\u001b[1;31m---------------------------------------------------------------------------\u001b[0m",
      "\u001b[1;31mNameError\u001b[0m                                 Traceback (most recent call last)",
      "Cell \u001b[1;32mIn [72], line 3\u001b[0m\n\u001b[0;32m      1\u001b[0m windowed_freq \u001b[38;5;241m=\u001b[39m []\n\u001b[0;32m      2\u001b[0m \u001b[38;5;28;01mfor\u001b[39;00m fft \u001b[38;5;129;01min\u001b[39;00m specs:\n\u001b[1;32m----> 3\u001b[0m     window_freq_data \u001b[38;5;241m=\u001b[39m \u001b[43mget_windows\u001b[49m(fft, len_window\u001b[38;5;241m=\u001b[39m\u001b[38;5;241m2\u001b[39m, overlap\u001b[38;5;241m=\u001b[39m\u001b[38;5;241m.5\u001b[39m)\n\u001b[0;32m      4\u001b[0m     \u001b[38;5;66;03m#shape = np.array(window_data).shape\u001b[39;00m\n\u001b[0;32m      5\u001b[0m     \u001b[38;5;66;03m#window_data = np.array(window_data).reshape(shape[0], shape[1]*shape[2]) \u001b[39;00m\n\u001b[0;32m      6\u001b[0m     \u001b[38;5;28mprint\u001b[39m(np\u001b[38;5;241m.\u001b[39marray(window_data)\u001b[38;5;241m.\u001b[39mshape)\n",
      "\u001b[1;31mNameError\u001b[0m: name 'get_windows' is not defined"
     ]
    }
   ],
   "source": [
    "windowed_freq = []\n",
    "for fft in specs:\n",
    "    window_freq_data = get_windows(fft, len_window=2, overlap=.5)\n",
    "    #shape = np.array(window_data).shape\n",
    "    #window_data = np.array(window_data).reshape(shape[0], shape[1]*shape[2]) \n",
    "    print(np.array(window_data).shape)\n",
    "    windowed_freq.append(window_data)  "
   ]
  },
  {
   "cell_type": "markdown",
   "metadata": {
    "id": "_4ryaczTeG8C"
   },
   "source": [
    "## Get Time-Windows"
   ]
  },
  {
   "cell_type": "code",
   "execution_count": 73,
   "metadata": {
    "executionInfo": {
     "elapsed": 10,
     "status": "aborted",
     "timestamp": 1669076149719,
     "user": {
      "displayName": "Justin Weinmeister",
      "userId": "08097657376930797622"
     },
     "user_tz": 300
    },
    "id": "pvtM9gi8exex"
   },
   "outputs": [
    {
     "name": "stdout",
     "output_type": "stream",
     "text": [
      "(21, 220500)\n",
      "(21, 220500)\n",
      "(21, 220500)\n",
      "(21, 220500)\n",
      "(21, 220500)\n",
      "(21, 220500)\n",
      "(21, 220500)\n",
      "(21, 220500)\n",
      "(21, 220500)\n",
      "(21, 220500)\n",
      "(21, 220500)\n",
      "(21, 220500)\n",
      "(21, 220500)\n",
      "(21, 220500)\n",
      "(21, 220500)\n",
      "(21, 220500)\n",
      "(21, 220500)\n",
      "(21, 220500)\n",
      "(21, 220500)\n",
      "(21, 220500)\n",
      "(21, 220500)\n",
      "(21, 220500)\n",
      "(21, 220500)\n",
      "(21, 220500)\n",
      "(21, 220500)\n"
     ]
    }
   ],
   "source": [
    "def get_time_windows(time_data, len_window_sec=1, overlap=0):\n",
    "  len_data = time_data.shape[0]\n",
    "  # print(len_data)\n",
    "\n",
    "  len_window = len_window_sec*44100\n",
    "    \n",
    "  windows = []\n",
    "  # How far the window should shift\n",
    "  if overlap == 0:\n",
    "      step = len_window\n",
    "      \n",
    "      start = 0\n",
    "      stop = step\n",
    "      # print(len_window)\n",
    "\n",
    "      for n in range(int(len_data/len_window)):\n",
    "          windows.append(time_data[start:stop])\n",
    "          \n",
    "          # print(start)\n",
    "          # print(stop)\n",
    "          # print()\n",
    "          start = start + step\n",
    "          stop = stop + step\n",
    "          \n",
    "          if start > len_data or stop > len_data:\n",
    "              break\n",
    "  else:\n",
    "      step = int(len_window*overlap)\n",
    "      \n",
    "      start = 0\n",
    "      stop = len_window\n",
    "      \n",
    "  #         print(len_window)\n",
    "      for n in range(int(len_data/step)):\n",
    "          windows.append(time_data[start:stop])\n",
    "          \n",
    "  #             print(start)\n",
    "  #             print(stop)\n",
    "  #             print()\n",
    "          start = start + step\n",
    "          stop = stop + step\n",
    "          \n",
    "          if start > len_data or stop > len_data:\n",
    "              break\n",
    "        \n",
    "  return windows\n",
    "\n",
    "time_windows = []\n",
    "num_labels = []\n",
    "for sample in samples:\n",
    "  new_windows = get_time_windows(samples[0], len_window_sec=5)\n",
    "  num_labels.append(len(new_windows))\n",
    "  print(np.array(new_windows).shape)\n",
    "  time_windows = time_windows + new_windows"
   ]
  },
  {
   "cell_type": "code",
   "execution_count": 74,
   "metadata": {
    "executionInfo": {
     "elapsed": 10,
     "status": "aborted",
     "timestamp": 1669076149720,
     "user": {
      "displayName": "Justin Weinmeister",
      "userId": "08097657376930797622"
     },
     "user_tz": 300
    },
    "id": "8wfBEePwibjN"
   },
   "outputs": [
    {
     "name": "stdout",
     "output_type": "stream",
     "text": [
      "Encoding is:\n",
      "[[1. 0. 0.]\n",
      " [1. 0. 0.]\n",
      " [1. 0. 0.]\n",
      " ...\n",
      " [0. 0. 1.]\n",
      " [0. 0. 1.]\n",
      " [0. 0. 1.]]\n"
     ]
    }
   ],
   "source": [
    "new_labels = []\n",
    "for label in labels:\n",
    "  new_labels = new_labels + [label for num in num_labels]\n",
    "\n",
    "enc_labels = enc.transform(new_labels).toarray()\n",
    "print('Encoding is:')\n",
    "print(enc_labels)"
   ]
  },
  {
   "cell_type": "code",
   "execution_count": 75,
   "metadata": {
    "executionInfo": {
     "elapsed": 10,
     "status": "aborted",
     "timestamp": 1669076149720,
     "user": {
      "displayName": "Justin Weinmeister",
      "userId": "08097657376930797622"
     },
     "user_tz": 300
    },
    "id": "Hp3oBzbmgtly"
   },
   "outputs": [
    {
     "ename": "NameError",
     "evalue": "name 'cv' is not defined",
     "output_type": "error",
     "traceback": [
      "\u001b[1;31m---------------------------------------------------------------------------\u001b[0m",
      "\u001b[1;31mNameError\u001b[0m                                 Traceback (most recent call last)",
      "Cell \u001b[1;32mIn [75], line 1\u001b[0m\n\u001b[1;32m----> 1\u001b[0m train, test \u001b[38;5;241m=\u001b[39m \u001b[43mcv\u001b[49m\u001b[38;5;241m.\u001b[39msplit(np\u001b[38;5;241m.\u001b[39marray(X), np\u001b[38;5;241m.\u001b[39marray(y\u001b[38;5;241m.\u001b[39margmax(axis\u001b[38;5;241m=\u001b[39m\u001b[38;5;241m1\u001b[39m)))\n",
      "\u001b[1;31mNameError\u001b[0m: name 'cv' is not defined"
     ]
    }
   ],
   "source": [
    "train, test = cv.split(np.array(X), np.array(y.argmax(axis=1)))"
   ]
  },
  {
   "cell_type": "markdown",
   "metadata": {
    "id": "bpBXaHp0pf9e"
   },
   "source": [
    "## Feature Extraction"
   ]
  },
  {
   "cell_type": "code",
   "execution_count": 76,
   "metadata": {
    "executionInfo": {
     "elapsed": 10,
     "status": "aborted",
     "timestamp": 1669076149720,
     "user": {
      "displayName": "Justin Weinmeister",
      "userId": "08097657376930797622"
     },
     "user_tz": 300
    },
    "id": "msEbVr5CpkxJ"
   },
   "outputs": [],
   "source": [
    "specs_reshape = []\n",
    "for i in range(len(specs)):\n",
    "  shape = np.array(specs[i]).shape\n",
    "  X = np.array(specs[i]).reshape(shape[0]*shape[1])\n",
    "  specs_reshape.append(X)\n",
    "  "
   ]
  },
  {
   "cell_type": "code",
   "execution_count": 83,
   "metadata": {
    "executionInfo": {
     "elapsed": 10,
     "status": "aborted",
     "timestamp": 1669076149721,
     "user": {
      "displayName": "Justin Weinmeister",
      "userId": "08097657376930797622"
     },
     "user_tz": 300
    },
    "id": "AQxksTrXpnGF"
   },
   "outputs": [
    {
     "ename": "IndentationError",
     "evalue": "unindent does not match any outer indentation level (<tokenize>, line 15)",
     "output_type": "error",
     "traceback": [
      "\u001b[1;36m  File \u001b[1;32m<tokenize>:15\u001b[1;36m\u001b[0m\n\u001b[1;33m    mfccs = librosa.feature.mfcc(y=specs_reshape[i], sr=44100, n_mfcc=20, win_length = int(np.ceil(1024/window_numbers)), hop_length = int(np.ceil(1024/(2*window_numbers))))\u001b[0m\n\u001b[1;37m    ^\u001b[0m\n\u001b[1;31mIndentationError\u001b[0m\u001b[1;31m:\u001b[0m unindent does not match any outer indentation level\n"
     ]
    }
   ],
   "source": [
    "window_numbers = 20 ## need to be determined\n",
    "domain_fv = []\n",
    "\n",
    "for i in range(len(specs_reshape)):\n",
    "  #specs reshape: [frequency][time]\n",
    "  print(specs_reshape[0])\n",
    "  \n",
    "    # peak frequency\n",
    "      for \n",
    "\n",
    "    # zero crossing rate\n",
    "    # threshold crossing rate bandwidth\n",
    "\n",
    "    # MFCC\n",
    "    mfccs = librosa.feature.mfcc(y=specs_reshape[i], sr=44100, n_mfcc=20, win_length = int(np.ceil(1024/window_numbers)), hop_length = int(np.ceil(1024/(2*window_numbers))))\n",
    "    mfccs_mean = np.mean(mfccs.T, axis=0)\n",
    "    #mfccs_mean=mfccs_mean.reshape(513,20)\n",
    "\n",
    "    # Spectral Centroid\n",
    "#     sc = librosa.feature.spectral_centroid(y=spectrograms[i], sr=44100, win_length = int(np.ceil(1024/5)), hop_length = int(np.ceil(1024/10)))\n",
    "#     reshape_sc=[]\n",
    "#     for x in sc:\n",
    "#         for j in x:\n",
    "#             reshape_sc.append(j)\n",
    "\n",
    "    #all_features=list(zip(mfccs_mean,reshape_sc))\n",
    "    domain_fv.append(mfccs_mean)\n",
    "    "
   ]
  },
  {
   "cell_type": "markdown",
   "metadata": {
    "id": "EReY11hZdz2J"
   },
   "source": [
    "## Train Model"
   ]
  },
  {
   "cell_type": "code",
   "execution_count": 79,
   "metadata": {
    "executionInfo": {
     "elapsed": 10,
     "status": "aborted",
     "timestamp": 1669076149721,
     "user": {
      "displayName": "Justin Weinmeister",
      "userId": "08097657376930797622"
     },
     "user_tz": 300
    },
    "id": "8r2UmYQmeGb4"
   },
   "outputs": [
    {
     "ename": "ValueError",
     "evalue": "Found input variables with inconsistent numbers of samples: [525, 625]",
     "output_type": "error",
     "traceback": [
      "\u001b[1;31m---------------------------------------------------------------------------\u001b[0m",
      "\u001b[1;31mValueError\u001b[0m                                Traceback (most recent call last)",
      "Cell \u001b[1;32mIn [79], line 24\u001b[0m\n\u001b[0;32m     22\u001b[0m scores \u001b[38;5;241m=\u001b[39m []\n\u001b[0;32m     23\u001b[0m confuse_mat \u001b[38;5;241m=\u001b[39m []\n\u001b[1;32m---> 24\u001b[0m \u001b[38;5;28;01mfor\u001b[39;00m train_index, test_index \u001b[38;5;129;01min\u001b[39;00m cv\u001b[38;5;241m.\u001b[39msplit(np\u001b[38;5;241m.\u001b[39marray(X), np\u001b[38;5;241m.\u001b[39marray(y\u001b[38;5;241m.\u001b[39margmax(axis\u001b[38;5;241m=\u001b[39m\u001b[38;5;241m1\u001b[39m))):\n\u001b[0;32m     25\u001b[0m     \u001b[38;5;28mprint\u001b[39m(\u001b[38;5;124mf\u001b[39m\u001b[38;5;124m\"\u001b[39m\u001b[38;5;124mSplit \u001b[39m\u001b[38;5;132;01m{\u001b[39;00msplit\u001b[38;5;132;01m}\u001b[39;00m\u001b[38;5;124m/10...\u001b[39m\u001b[38;5;124m\"\u001b[39m)\n\u001b[0;32m     26\u001b[0m     x_train, y_train \u001b[38;5;241m=\u001b[39m X[train_index], enc_labels[train_index]\n",
      "File \u001b[1;32m~\\Anaconda3\\envs\\ml3\\lib\\site-packages\\sklearn\\model_selection\\_split.py:330\u001b[0m, in \u001b[0;36m_BaseKFold.split\u001b[1;34m(self, X, y, groups)\u001b[0m\n\u001b[0;32m    306\u001b[0m \u001b[38;5;28;01mdef\u001b[39;00m \u001b[38;5;21msplit\u001b[39m(\u001b[38;5;28mself\u001b[39m, X, y\u001b[38;5;241m=\u001b[39m\u001b[38;5;28;01mNone\u001b[39;00m, groups\u001b[38;5;241m=\u001b[39m\u001b[38;5;28;01mNone\u001b[39;00m):\n\u001b[0;32m    307\u001b[0m     \u001b[38;5;124;03m\"\"\"Generate indices to split data into training and test set.\u001b[39;00m\n\u001b[0;32m    308\u001b[0m \n\u001b[0;32m    309\u001b[0m \u001b[38;5;124;03m    Parameters\u001b[39;00m\n\u001b[1;32m   (...)\u001b[0m\n\u001b[0;32m    328\u001b[0m \u001b[38;5;124;03m        The testing set indices for that split.\u001b[39;00m\n\u001b[0;32m    329\u001b[0m \u001b[38;5;124;03m    \"\"\"\u001b[39;00m\n\u001b[1;32m--> 330\u001b[0m     X, y, groups \u001b[38;5;241m=\u001b[39m \u001b[43mindexable\u001b[49m\u001b[43m(\u001b[49m\u001b[43mX\u001b[49m\u001b[43m,\u001b[49m\u001b[43m \u001b[49m\u001b[43my\u001b[49m\u001b[43m,\u001b[49m\u001b[43m \u001b[49m\u001b[43mgroups\u001b[49m\u001b[43m)\u001b[49m\n\u001b[0;32m    331\u001b[0m     n_samples \u001b[38;5;241m=\u001b[39m _num_samples(X)\n\u001b[0;32m    332\u001b[0m     \u001b[38;5;28;01mif\u001b[39;00m \u001b[38;5;28mself\u001b[39m\u001b[38;5;241m.\u001b[39mn_splits \u001b[38;5;241m>\u001b[39m n_samples:\n",
      "File \u001b[1;32m~\\Anaconda3\\envs\\ml3\\lib\\site-packages\\sklearn\\utils\\validation.py:433\u001b[0m, in \u001b[0;36mindexable\u001b[1;34m(*iterables)\u001b[0m\n\u001b[0;32m    414\u001b[0m \u001b[38;5;124;03m\"\"\"Make arrays indexable for cross-validation.\u001b[39;00m\n\u001b[0;32m    415\u001b[0m \n\u001b[0;32m    416\u001b[0m \u001b[38;5;124;03mChecks consistent length, passes through None, and ensures that everything\u001b[39;00m\n\u001b[1;32m   (...)\u001b[0m\n\u001b[0;32m    429\u001b[0m \u001b[38;5;124;03m    sparse matrix, or dataframe) or `None`.\u001b[39;00m\n\u001b[0;32m    430\u001b[0m \u001b[38;5;124;03m\"\"\"\u001b[39;00m\n\u001b[0;32m    432\u001b[0m result \u001b[38;5;241m=\u001b[39m [_make_indexable(X) \u001b[38;5;28;01mfor\u001b[39;00m X \u001b[38;5;129;01min\u001b[39;00m iterables]\n\u001b[1;32m--> 433\u001b[0m \u001b[43mcheck_consistent_length\u001b[49m\u001b[43m(\u001b[49m\u001b[38;5;241;43m*\u001b[39;49m\u001b[43mresult\u001b[49m\u001b[43m)\u001b[49m\n\u001b[0;32m    434\u001b[0m \u001b[38;5;28;01mreturn\u001b[39;00m result\n",
      "File \u001b[1;32m~\\Anaconda3\\envs\\ml3\\lib\\site-packages\\sklearn\\utils\\validation.py:387\u001b[0m, in \u001b[0;36mcheck_consistent_length\u001b[1;34m(*arrays)\u001b[0m\n\u001b[0;32m    385\u001b[0m uniques \u001b[38;5;241m=\u001b[39m np\u001b[38;5;241m.\u001b[39munique(lengths)\n\u001b[0;32m    386\u001b[0m \u001b[38;5;28;01mif\u001b[39;00m \u001b[38;5;28mlen\u001b[39m(uniques) \u001b[38;5;241m>\u001b[39m \u001b[38;5;241m1\u001b[39m:\n\u001b[1;32m--> 387\u001b[0m     \u001b[38;5;28;01mraise\u001b[39;00m \u001b[38;5;167;01mValueError\u001b[39;00m(\n\u001b[0;32m    388\u001b[0m         \u001b[38;5;124m\"\u001b[39m\u001b[38;5;124mFound input variables with inconsistent numbers of samples: \u001b[39m\u001b[38;5;132;01m%r\u001b[39;00m\u001b[38;5;124m\"\u001b[39m\n\u001b[0;32m    389\u001b[0m         \u001b[38;5;241m%\u001b[39m [\u001b[38;5;28mint\u001b[39m(l) \u001b[38;5;28;01mfor\u001b[39;00m l \u001b[38;5;129;01min\u001b[39;00m lengths]\n\u001b[0;32m    390\u001b[0m     )\n",
      "\u001b[1;31mValueError\u001b[0m: Found input variables with inconsistent numbers of samples: [525, 625]"
     ]
    }
   ],
   "source": [
    "# Specify which data to use, these are the only parameters that should change, the rest should remain the same.\n",
    "X = time_windows\n",
    "y = enc_labels\n",
    "depth = 5\n",
    "\n",
    "\n",
    "# # Create our imputer to replace missing values with the mean \n",
    "# imp = SimpleImputer(missing_values=np.nan, strategy='mean')\n",
    "# imp = imp.fit(X)\n",
    "    \n",
    "# # Impute our data\n",
    "# X_imp = imp.transform(X)\n",
    "\n",
    "# Define model\n",
    "clf = RandomForestClassifier(max_depth=depth, random_state=0)\n",
    "\n",
    "# Define number of folds\n",
    "cv = StratifiedKFold(n_splits=10, shuffle=False)\n",
    "\n",
    "# Split data, train and test model on 10 folds\n",
    "split = 1\n",
    "scores = []\n",
    "confuse_mat = []\n",
    "for train_index, test_index in cv.split(np.array(X), np.array(y.argmax(axis=1))):\n",
    "    print(f\"Split {split}/10...\")\n",
    "    x_train, y_train = X[train_index], enc_labels[train_index]\n",
    "    x_test, y_test = X[test_index], enc_labels[test_index]\n",
    "    \n",
    "    \n",
    "    # Fit model and evaluate it\n",
    "    clf.fit(x_train, y_train)\n",
    "    scores.append(clf.score(x_test, y_test))\n",
    "    \n",
    "    # Construct confusion matrix\n",
    "    y_predict = clf.predict(x_test)\n",
    "    confuse_mat.append(confusion_matrix(y_test.argmax(axis=1), y_predict.argmax(axis=1)))\n",
    "    \n",
    "    # Iterate\n",
    "    split = split + 1\n",
    "    \n",
    "print(\"Mean accuracy:\" + str(np.mean(scores)))"
   ]
  },
  {
   "cell_type": "code",
   "execution_count": null,
   "metadata": {
    "executionInfo": {
     "elapsed": 10,
     "status": "aborted",
     "timestamp": 1669076149722,
     "user": {
      "displayName": "Justin Weinmeister",
      "userId": "08097657376930797622"
     },
     "user_tz": 300
    },
    "id": "LAMP1ouNdzQe"
   },
   "outputs": [],
   "source": [
    "# TODO: should probably do kfold but doing this just for testing purposes\n",
    "from sklearn.model_selection import train_test_split\n",
    "\n",
    "x_train, x_test, y_train, y_test = train_test_split(binned_data, enc_labels, test_size=.3, stratify=enc_labels)"
   ]
  },
  {
   "cell_type": "code",
   "execution_count": null,
   "metadata": {
    "executionInfo": {
     "elapsed": 10,
     "status": "aborted",
     "timestamp": 1669076149722,
     "user": {
      "displayName": "Justin Weinmeister",
      "userId": "08097657376930797622"
     },
     "user_tz": 300
    },
    "id": "wOmvyKZAfBv_"
   },
   "outputs": [],
   "source": [
    "clf = RandomForestClassifier()\n",
    "\n",
    "clf.fit(x_train, y_train)\n",
    "\n",
    "print(clf.score(x_test, y_test))"
   ]
  },
  {
   "cell_type": "markdown",
   "metadata": {
    "id": "ZG2uK2hZvEh-"
   },
   "source": [
    "## Save Model"
   ]
  },
  {
   "cell_type": "code",
   "execution_count": null,
   "metadata": {
    "executionInfo": {
     "elapsed": 10,
     "status": "aborted",
     "timestamp": 1669076149722,
     "user": {
      "displayName": "Justin Weinmeister",
      "userId": "08097657376930797622"
     },
     "user_tz": 300
    },
    "id": "E4cyLfFqgIY7"
   },
   "outputs": [],
   "source": [
    "import pickle\n",
    "\n",
    "pkl_filename = \"pickle_model.pkl\"\n",
    "\n",
    "# Note, for now this will only store the file in volitle memory in the notebook\n",
    "# To save permanently, most add file path to drive\n",
    "with open(pkl_filename, 'wb') as file:\n",
    "  pickle.dump(clf, file)"
   ]
  },
  {
   "cell_type": "markdown",
   "metadata": {
    "id": "Cuqmt22ZvGh5"
   },
   "source": [
    "## Load Model"
   ]
  },
  {
   "cell_type": "code",
   "execution_count": null,
   "metadata": {
    "executionInfo": {
     "elapsed": 10,
     "status": "aborted",
     "timestamp": 1669076149722,
     "user": {
      "displayName": "Justin Weinmeister",
      "userId": "08097657376930797622"
     },
     "user_tz": 300
    },
    "id": "bdAfRQ1svJ5L"
   },
   "outputs": [],
   "source": [
    "with open(pkl_filename, 'rb') as file:\n",
    "  pickle_model = pickle.load(file)"
   ]
  },
  {
   "cell_type": "code",
   "execution_count": null,
   "metadata": {
    "executionInfo": {
     "elapsed": 11,
     "status": "aborted",
     "timestamp": 1669076149723,
     "user": {
      "displayName": "Justin Weinmeister",
      "userId": "08097657376930797622"
     },
     "user_tz": 300
    },
    "id": "tCb5zXxpvnWi"
   },
   "outputs": [],
   "source": [
    "# Test saved model\n",
    "print(pickle_model.score(x_test, y_test))"
   ]
  }
 ],
 "metadata": {
  "colab": {
   "provenance": []
  },
  "kernelspec": {
   "display_name": "Python 3 (ipykernel)",
   "language": "python",
   "name": "python3"
  },
  "language_info": {
   "codemirror_mode": {
    "name": "ipython",
    "version": 3
   },
   "file_extension": ".py",
   "mimetype": "text/x-python",
   "name": "python",
   "nbconvert_exporter": "python",
   "pygments_lexer": "ipython3",
   "version": "3.8.15"
  },
  "varInspector": {
   "cols": {
    "lenName": 16,
    "lenType": 16,
    "lenVar": 40
   },
   "kernels_config": {
    "python": {
     "delete_cmd_postfix": "",
     "delete_cmd_prefix": "del ",
     "library": "var_list.py",
     "varRefreshCmd": "print(var_dic_list())"
    },
    "r": {
     "delete_cmd_postfix": ") ",
     "delete_cmd_prefix": "rm(",
     "library": "var_list.r",
     "varRefreshCmd": "cat(var_dic_list()) "
    }
   },
   "types_to_exclude": [
    "module",
    "function",
    "builtin_function_or_method",
    "instance",
    "_Feature"
   ],
   "window_display": false
  }
 },
 "nbformat": 4,
 "nbformat_minor": 1
}
