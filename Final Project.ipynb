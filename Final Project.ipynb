{
 "cells": [
  {
   "cell_type": "markdown",
   "metadata": {
    "id": "onWDuDrDOUzI"
   },
   "source": [
    "## Import Libraries"
   ]
  },
  {
   "cell_type": "code",
   "execution_count": 1,
   "metadata": {
    "executionInfo": {
     "elapsed": 3808,
     "status": "ok",
     "timestamp": 1669076076153,
     "user": {
      "displayName": "Justin Weinmeister",
      "userId": "08097657376930797622"
     },
     "user_tz": 300
    },
    "id": "dXptQZVP7haW"
   },
   "outputs": [],
   "source": [
    "import os\n",
    "import numpy as np\n",
    "from scipy import signal\n",
    "import matplotlib.pyplot as plt\n",
    "from cv2 import resize as cv2_resize\n",
    "from librosa import load as lib_load\n",
    "from librosa import feature as lib_feature\n",
    "\n",
    "# Import sci-kit models\n",
    "from sklearn.preprocessing import OneHotEncoder \n",
    "from sklearn.ensemble import RandomForestClassifier\n",
    "from sklearn.model_selection import StratifiedKFold\n",
    "from sklearn.metrics import confusion_matrix"
   ]
  },
  {
   "cell_type": "markdown",
   "metadata": {
    "id": "VrkDhTp6OfaC"
   },
   "source": [
    "## Load Data"
   ]
  },
  {
   "cell_type": "code",
   "execution_count": 2,
   "metadata": {
    "executionInfo": {
     "elapsed": 7,
     "status": "ok",
     "timestamp": 1669076076154,
     "user": {
      "displayName": "Justin Weinmeister",
      "userId": "08097657376930797622"
     },
     "user_tz": 300
    },
    "id": "ugxJ8jLPz-o3"
   },
   "outputs": [],
   "source": [
    "# Launch Jupyter Notebook from the project folder\n",
    "root_path = os.getcwd()\n",
    "# Data is stored in the folder named \"Data\"\n",
    "path = os.path.join(root_path, 'Data')"
   ]
  },
  {
   "cell_type": "code",
   "execution_count": 3,
   "metadata": {},
   "outputs": [],
   "source": [
    "def load_data(path, sample_rate):\n",
    "    # Create data lists\n",
    "    samples = []\n",
    "    labels = []\n",
    "    classes = os.listdir(path)\n",
    "    print('Loading data...')\n",
    "\n",
    "    for file in os.listdir(path):\n",
    "        class_path = os.path.join(path, file)\n",
    "        for filename in os.listdir(class_path):\n",
    "            # Load data\n",
    "            y, s = lib_load(os.path.join(class_path,filename), sr=sample_rate)\n",
    "            # Append data and label\n",
    "            labels.append([file])\n",
    "            samples.append(y)\n",
    "            #print('Loaded {}'.format(filename))\n",
    "            \n",
    "    return samples, classes, labels"
   ]
  },
  {
   "cell_type": "code",
   "execution_count": 4,
   "metadata": {
    "colab": {
     "base_uri": "https://localhost:8080/"
    },
    "executionInfo": {
     "elapsed": 22,
     "status": "ok",
     "timestamp": 1669076126672,
     "user": {
      "displayName": "Justin Weinmeister",
      "userId": "08097657376930797622"
     },
     "user_tz": 300
    },
    "id": "c1iFq_ETMgBi",
    "outputId": "3e5746a8-48b4-4c6b-aabe-f2be12dcd93c"
   },
   "outputs": [
    {
     "name": "stdout",
     "output_type": "stream",
     "text": [
      "Loading data...\n",
      "Loaded data from the directory C:\\Users\\14w\\Documents\\CS522_final\\Data \n",
      "\n",
      "Loaded the classes: ['Dendropsophus bifurcus', 'Engystomops petersi', 'Pristimantis conspicillatus'] \n",
      "\n",
      "Loaded 31 samples with 31 labels \n",
      "\n",
      "Sample  0: \t 105.8s \t ['Dendropsophus bifurcus']\n",
      "Sample  1: \t 593.1s \t ['Dendropsophus bifurcus']\n",
      "Sample  2: \t 45.9s \t ['Dendropsophus bifurcus']\n",
      "Sample  3: \t 29.4s \t ['Dendropsophus bifurcus']\n",
      "Sample  4: \t 105.8s \t ['Dendropsophus bifurcus']\n",
      "Sample  5: \t 240.3s \t ['Dendropsophus bifurcus']\n",
      "Sample  6: \t 313.6s \t ['Dendropsophus bifurcus']\n",
      "Sample  7: \t 409.2s \t ['Dendropsophus bifurcus']\n",
      "Sample  8: \t 208.7s \t ['Dendropsophus bifurcus']\n",
      "Sample  9: \t 317.8s \t ['Dendropsophus bifurcus']\n",
      "Sample 10: \t 512.6s \t ['Engystomops petersi']\n",
      "Sample 11: \t 419.5s \t ['Engystomops petersi']\n",
      "Sample 12: \t 368.0s \t ['Engystomops petersi']\n",
      "Sample 13: \t 320.0s \t ['Engystomops petersi']\n",
      "Sample 14: \t 641.0s \t ['Engystomops petersi']\n",
      "Sample 15: \t 1018.6s \t ['Engystomops petersi']\n",
      "Sample 16: \t 504.0s \t ['Engystomops petersi']\n",
      "Sample 17: \t 67.1s \t ['Engystomops petersi']\n",
      "Sample 18: \t 79.8s \t ['Engystomops petersi']\n",
      "Sample 19: \t 132.2s \t ['Engystomops petersi']\n",
      "Sample 20: \t 356.8s \t ['Engystomops petersi']\n",
      "Sample 21: \t 224.5s \t ['Engystomops petersi']\n",
      "Sample 22: \t 264.1s \t ['Pristimantis conspicillatus']\n",
      "Sample 23: \t 227.3s \t ['Pristimantis conspicillatus']\n",
      "Sample 24: \t 203.4s \t ['Pristimantis conspicillatus']\n",
      "Sample 25: \t 307.5s \t ['Pristimantis conspicillatus']\n",
      "Sample 26: \t 119.8s \t ['Pristimantis conspicillatus']\n",
      "Sample 27: \t 235.8s \t ['Pristimantis conspicillatus']\n",
      "Sample 28: \t 200.5s \t ['Pristimantis conspicillatus']\n",
      "Sample 29: \t 257.5s \t ['Pristimantis conspicillatus']\n",
      "Sample 30: \t 80.8s \t ['Pristimantis conspicillatus']\n"
     ]
    }
   ],
   "source": [
    "# Define sample rate\n",
    "sample_rate = 44_100\n",
    "# Load data\n",
    "samples, classes, labels = load_data(path, sample_rate)\n",
    "\n",
    "# Print data information\n",
    "print('Loaded data from the directory {} \\n'.format(path))\n",
    "print('Loaded the classes: {} \\n'.format(classes))\n",
    "print('Loaded {} samples with {} labels \\n'.format(len(samples), len(labels)))\n",
    "\n",
    "# Check lengths of samples and their labels\n",
    "for idx, sample in enumerate(samples):\n",
    "  print('Sample {:2}: \\t {:.1f}s \\t {}'.format(idx, len(sample)/sample_rate, labels[idx]))"
   ]
  },
  {
   "cell_type": "markdown",
   "metadata": {
    "id": "LpDV974SVO1R"
   },
   "source": [
    "## Encode labels"
   ]
  },
  {
   "cell_type": "code",
   "execution_count": 5,
   "metadata": {
    "colab": {
     "base_uri": "https://localhost:8080/"
    },
    "executionInfo": {
     "elapsed": 17,
     "status": "ok",
     "timestamp": 1669076126672,
     "user": {
      "displayName": "Justin Weinmeister",
      "userId": "08097657376930797622"
     },
     "user_tz": 300
    },
    "id": "yFm7OkhQVNeo",
    "outputId": "c3e3bacd-fc1a-4f31-c668-e916f1fd4850"
   },
   "outputs": [
    {
     "name": "stdout",
     "output_type": "stream",
     "text": [
      "Encoding is [1. 0. 0.], label is ['Dendropsophus bifurcus']\n",
      "Encoding is [1. 0. 0.], label is ['Dendropsophus bifurcus']\n",
      "Encoding is [1. 0. 0.], label is ['Dendropsophus bifurcus']\n",
      "Encoding is [1. 0. 0.], label is ['Dendropsophus bifurcus']\n",
      "Encoding is [1. 0. 0.], label is ['Dendropsophus bifurcus']\n",
      "Encoding is [1. 0. 0.], label is ['Dendropsophus bifurcus']\n",
      "Encoding is [1. 0. 0.], label is ['Dendropsophus bifurcus']\n",
      "Encoding is [1. 0. 0.], label is ['Dendropsophus bifurcus']\n",
      "Encoding is [1. 0. 0.], label is ['Dendropsophus bifurcus']\n",
      "Encoding is [1. 0. 0.], label is ['Dendropsophus bifurcus']\n",
      "Encoding is [0. 1. 0.], label is ['Engystomops petersi']\n",
      "Encoding is [0. 1. 0.], label is ['Engystomops petersi']\n",
      "Encoding is [0. 1. 0.], label is ['Engystomops petersi']\n",
      "Encoding is [0. 1. 0.], label is ['Engystomops petersi']\n",
      "Encoding is [0. 1. 0.], label is ['Engystomops petersi']\n",
      "Encoding is [0. 1. 0.], label is ['Engystomops petersi']\n",
      "Encoding is [0. 1. 0.], label is ['Engystomops petersi']\n",
      "Encoding is [0. 1. 0.], label is ['Engystomops petersi']\n",
      "Encoding is [0. 1. 0.], label is ['Engystomops petersi']\n",
      "Encoding is [0. 1. 0.], label is ['Engystomops petersi']\n",
      "Encoding is [0. 1. 0.], label is ['Engystomops petersi']\n",
      "Encoding is [0. 1. 0.], label is ['Engystomops petersi']\n",
      "Encoding is [0. 0. 1.], label is ['Pristimantis conspicillatus']\n",
      "Encoding is [0. 0. 1.], label is ['Pristimantis conspicillatus']\n",
      "Encoding is [0. 0. 1.], label is ['Pristimantis conspicillatus']\n",
      "Encoding is [0. 0. 1.], label is ['Pristimantis conspicillatus']\n",
      "Encoding is [0. 0. 1.], label is ['Pristimantis conspicillatus']\n",
      "Encoding is [0. 0. 1.], label is ['Pristimantis conspicillatus']\n",
      "Encoding is [0. 0. 1.], label is ['Pristimantis conspicillatus']\n",
      "Encoding is [0. 0. 1.], label is ['Pristimantis conspicillatus']\n",
      "Encoding is [0. 0. 1.], label is ['Pristimantis conspicillatus']\n"
     ]
    }
   ],
   "source": [
    "# Reshape classes list\n",
    "unique_classes = [[c] for c in classes]\n",
    "\n",
    "# Create encoder, fit, and check encoding\n",
    "enc = OneHotEncoder()\n",
    "enc.fit(unique_classes)\n",
    "enc_labels = enc.transform(labels).toarray()\n",
    "for idx, item in enumerate(enc_labels):\n",
    "    print('Encoding is {}, label is {}'.format(enc_labels[idx], labels[idx]))"
   ]
  },
  {
   "cell_type": "markdown",
   "metadata": {
    "id": "szbETrq7cvJx"
   },
   "source": [
    "## Get Spectrograms"
   ]
  },
  {
   "cell_type": "code",
   "execution_count": 6,
   "metadata": {
    "executionInfo": {
     "elapsed": 15,
     "status": "ok",
     "timestamp": 1669076126673,
     "user": {
      "displayName": "Justin Weinmeister",
      "userId": "08097657376930797622"
     },
     "user_tz": 300
    },
    "id": "fziIJu_wXRpf"
   },
   "outputs": [],
   "source": [
    "def get_spectrograms(time_data, FFT_SIZE=1024, fs=44100):\n",
    "    ## Compute Fast Fourier Transform of data\n",
    "    # Create FFT list\n",
    "    pxx = []\n",
    "    \n",
    "    print(\"Calculating FFTs for data ...\")\n",
    "    for sample in time_data:\n",
    "        _, _, pxx_idx = signal.spectrogram(sample, nperseg=FFT_SIZE, fs=fs, noverlap=FFT_SIZE/2)\n",
    "        \n",
    "        pxx.append(pxx_idx)\n",
    "\n",
    "    return pxx.copy()"
   ]
  },
  {
   "cell_type": "code",
   "execution_count": 9,
   "metadata": {
    "colab": {
     "base_uri": "https://localhost:8080/"
    },
    "executionInfo": {
     "elapsed": 20204,
     "status": "ok",
     "timestamp": 1669076146863,
     "user": {
      "displayName": "Justin Weinmeister",
      "userId": "08097657376930797622"
     },
     "user_tz": 300
    },
    "id": "KbNO827WXgUW",
    "outputId": "a302b663-51d8-4f8e-c29e-1564d162b729"
   },
   "outputs": [
    {
     "name": "stdout",
     "output_type": "stream",
     "text": [
      "Calculating FFTs for data ...\n",
      "Spectrograms: \t 31\n",
      "Frequency bins: 513 \n",
      "\n",
      "Spectrogram 0 time bins: \t 9111\n",
      "Spectrogram 1 time bins: \t 51086\n",
      "Spectrogram 2 time bins: \t 3954\n",
      "Spectrogram 3 time bins: \t 2529\n",
      "Spectrogram 4 time bins: \t 9111\n",
      "Spectrogram 5 time bins: \t 20699\n",
      "Spectrogram 6 time bins: \t 27013\n",
      "Spectrogram 7 time bins: \t 35243\n",
      "Spectrogram 8 time bins: \t 17975\n",
      "Spectrogram 9 time bins: \t 27375\n",
      "Spectrogram 10 time bins: \t 44146\n",
      "Spectrogram 11 time bins: \t 36130\n",
      "Spectrogram 12 time bins: \t 31698\n",
      "Spectrogram 13 time bins: \t 27558\n",
      "Spectrogram 14 time bins: \t 55212\n",
      "Spectrogram 15 time bins: \t 87730\n",
      "Spectrogram 16 time bins: \t 43410\n",
      "Spectrogram 17 time bins: \t 5782\n",
      "Spectrogram 18 time bins: \t 6871\n",
      "Spectrogram 19 time bins: \t 11389\n",
      "Spectrogram 20 time bins: \t 30733\n",
      "Spectrogram 21 time bins: \t 19332\n",
      "Spectrogram 22 time bins: \t 22743\n",
      "Spectrogram 23 time bins: \t 19580\n",
      "Spectrogram 24 time bins: \t 17515\n",
      "Spectrogram 25 time bins: \t 26487\n",
      "Spectrogram 26 time bins: \t 10321\n",
      "Spectrogram 27 time bins: \t 20311\n",
      "Spectrogram 28 time bins: \t 17264\n",
      "Spectrogram 29 time bins: \t 22177\n",
      "Spectrogram 30 time bins: \t 6958\n"
     ]
    }
   ],
   "source": [
    "# Specify FFT size\n",
    "fft_size = 1024\n",
    "# Load data\n",
    "specs = get_spectrograms(samples, fft_size, sample_rate)\n",
    "\n",
    "# Check spectrogram data shapes\n",
    "print('Spectrograms: \\t {}'.format(len(specs)))\n",
    "print('Frequency bins: {} \\n'.format(len(specs[0])))\n",
    "for idx, spec in enumerate(specs):\n",
    "    print('Spectrogram {} time bins: \\t {}'.format(idx, len(spec[0])))"
   ]
  },
  {
   "cell_type": "markdown",
   "metadata": {
    "id": "R6ddv2pYctF1"
   },
   "source": [
    "## Binning Data"
   ]
  },
  {
   "cell_type": "code",
   "execution_count": 10,
   "metadata": {
    "executionInfo": {
     "elapsed": 13,
     "status": "ok",
     "timestamp": 1669076146864,
     "user": {
      "displayName": "Justin Weinmeister",
      "userId": "08097657376930797622"
     },
     "user_tz": 300
    },
    "id": "CXo9zG8xcsnf"
   },
   "outputs": [],
   "source": [
    "def get_bins(spec_data, num_freq_bins=5, num_time_bins=5):\n",
    "    binned_data = []\n",
    "        \n",
    "    # Get individual samples\n",
    "    for s in spec_data:\n",
    "        #Open CV's resize takes (columns,rows) as the input for desired size\n",
    "        resized_pxx=cv2_resize(s[:,:],(num_time_bins,num_freq_bins))\n",
    "        binned_data.append(resized_pxx.flatten())\n",
    "            \n",
    "    return binned_data"
   ]
  },
  {
   "cell_type": "code",
   "execution_count": 11,
   "metadata": {
    "executionInfo": {
     "elapsed": 2564,
     "status": "ok",
     "timestamp": 1669076149416,
     "user": {
      "displayName": "Justin Weinmeister",
      "userId": "08097657376930797622"
     },
     "user_tz": 300
    },
    "id": "gpqMD2dFc2p_"
   },
   "outputs": [
    {
     "name": "stdout",
     "output_type": "stream",
     "text": [
      "Binned spectrograms: \t 31\n",
      "Number of bins: \t 25\n"
     ]
    }
   ],
   "source": [
    "# Define bins\n",
    "freq_bins = 5\n",
    "time_bins = 5\n",
    "# Get binned data\n",
    "binned_specs = get_bins(specs, freq_bins, time_bins)\n",
    "\n",
    "# Print bin shapes\n",
    "print('Binned spectrograms: \\t {}'.format(len(binned_specs)))\n",
    "print('Number of bins: \\t {}'.format(len(binned_specs[0])))"
   ]
  },
  {
   "cell_type": "markdown",
   "metadata": {
    "id": "TqEn4D-acb_b"
   },
   "source": [
    "## Get Freq-Windows"
   ]
  },
  {
   "cell_type": "code",
   "execution_count": 12,
   "metadata": {
    "executionInfo": {
     "elapsed": 11,
     "status": "ok",
     "timestamp": 1669076149417,
     "user": {
      "displayName": "Justin Weinmeister",
      "userId": "08097657376930797622"
     },
     "user_tz": 300
    },
    "id": "KGspW27Rce5H"
   },
   "outputs": [],
   "source": [
    "def get_freq_windows(time_data, len_window=1, overlap=0, sample_rate=10):\n",
    "    len_data = time_data.shape[1]\n",
    "#     print(len_data)\n",
    "    \n",
    "    windows = []\n",
    "    \n",
    "    # How far the window should shift\n",
    "    if overlap == 0:\n",
    "        step = len_window\n",
    "        \n",
    "        start = 0\n",
    "        stop = step\n",
    "#         print(len_window)\n",
    "        for n in range(int(len_data/len_window)):\n",
    "            windows.append(time_data[:, start:stop])\n",
    "            \n",
    "#             print(start)\n",
    "#             print(stop)\n",
    "#             print()\n",
    "            start = start + step\n",
    "            stop = stop + step\n",
    "            \n",
    "            if start > len_data or stop > len_data:\n",
    "                break\n",
    "    else:\n",
    "        step = int(len_window*overlap)\n",
    "        \n",
    "        start = 0\n",
    "        stop = len_window\n",
    "        \n",
    "#         print(len_window)\n",
    "        for n in range(int(len_data/step)):\n",
    "            windows.append(time_data[:, start:stop])\n",
    "            \n",
    "#             print(start)\n",
    "#             print(stop)\n",
    "#             print()\n",
    "            start = start + step\n",
    "            stop = stop + step\n",
    "            \n",
    "            if start > len_data or stop > len_data:\n",
    "                break\n",
    "        \n",
    "    return windows"
   ]
  },
  {
   "cell_type": "code",
   "execution_count": 13,
   "metadata": {
    "colab": {
     "base_uri": "https://localhost:8080/",
     "height": 235
    },
    "executionInfo": {
     "elapsed": 312,
     "status": "error",
     "timestamp": 1669076149718,
     "user": {
      "displayName": "Justin Weinmeister",
      "userId": "08097657376930797622"
     },
     "user_tz": 300
    },
    "id": "S3lhNbcqc2Wd",
    "outputId": "405de2b9-8db4-4179-f217-6b077560de99"
   },
   "outputs": [
    {
     "ename": "NameError",
     "evalue": "name 'get_windows' is not defined",
     "output_type": "error",
     "traceback": [
      "\u001b[1;31m---------------------------------------------------------------------------\u001b[0m",
      "\u001b[1;31mNameError\u001b[0m                                 Traceback (most recent call last)",
      "Cell \u001b[1;32mIn [13], line 3\u001b[0m\n\u001b[0;32m      1\u001b[0m windowed_freq \u001b[38;5;241m=\u001b[39m []\n\u001b[0;32m      2\u001b[0m \u001b[38;5;28;01mfor\u001b[39;00m fft \u001b[38;5;129;01min\u001b[39;00m specs:\n\u001b[1;32m----> 3\u001b[0m     window_freq_data \u001b[38;5;241m=\u001b[39m \u001b[43mget_windows\u001b[49m(fft, len_window\u001b[38;5;241m=\u001b[39m\u001b[38;5;241m2\u001b[39m, overlap\u001b[38;5;241m=\u001b[39m\u001b[38;5;241m.5\u001b[39m)\n\u001b[0;32m      4\u001b[0m     \u001b[38;5;66;03m#shape = np.array(window_data).shape\u001b[39;00m\n\u001b[0;32m      5\u001b[0m     \u001b[38;5;66;03m#window_data = np.array(window_data).reshape(shape[0], shape[1]*shape[2]) \u001b[39;00m\n\u001b[0;32m      6\u001b[0m     \u001b[38;5;28mprint\u001b[39m(np\u001b[38;5;241m.\u001b[39marray(window_data)\u001b[38;5;241m.\u001b[39mshape)\n",
      "\u001b[1;31mNameError\u001b[0m: name 'get_windows' is not defined"
     ]
    }
   ],
   "source": [
    "windowed_freq = []\n",
    "for fft in specs:\n",
    "    window_freq_data = get_windows(fft, len_window=2, overlap=.5)\n",
    "    #shape = np.array(window_data).shape\n",
    "    #window_data = np.array(window_data).reshape(shape[0], shape[1]*shape[2]) \n",
    "    print(np.array(window_data).shape)\n",
    "    windowed_freq.append(window_data)  "
   ]
  },
  {
   "cell_type": "markdown",
   "metadata": {
    "id": "_4ryaczTeG8C"
   },
   "source": [
    "## Get Time-Windows"
   ]
  },
  {
   "cell_type": "code",
   "execution_count": null,
   "metadata": {
    "executionInfo": {
     "elapsed": 10,
     "status": "aborted",
     "timestamp": 1669076149719,
     "user": {
      "displayName": "Justin Weinmeister",
      "userId": "08097657376930797622"
     },
     "user_tz": 300
    },
    "id": "pvtM9gi8exex"
   },
   "outputs": [],
   "source": [
    "def get_time_windows(time_data, len_window_sec=1, overlap=0):\n",
    "  len_data = time_data.shape[0]\n",
    "  # print(len_data)\n",
    "\n",
    "  len_window = len_window_sec*44100\n",
    "    \n",
    "  windows = []\n",
    "  # How far the window should shift\n",
    "  if overlap == 0:\n",
    "      step = len_window\n",
    "      \n",
    "      start = 0\n",
    "      stop = step\n",
    "      # print(len_window)\n",
    "\n",
    "      for n in range(int(len_data/len_window)):\n",
    "          windows.append(time_data[start:stop])\n",
    "          \n",
    "          # print(start)\n",
    "          # print(stop)\n",
    "          # print()\n",
    "          start = start + step\n",
    "          stop = stop + step\n",
    "          \n",
    "          if start > len_data or stop > len_data:\n",
    "              break\n",
    "  else:\n",
    "      step = int(len_window*overlap)\n",
    "      \n",
    "      start = 0\n",
    "      stop = len_window\n",
    "      \n",
    "  #         print(len_window)\n",
    "      for n in range(int(len_data/step)):\n",
    "          windows.append(time_data[start:stop])\n",
    "          \n",
    "  #             print(start)\n",
    "  #             print(stop)\n",
    "  #             print()\n",
    "          start = start + step\n",
    "          stop = stop + step\n",
    "          \n",
    "          if start > len_data or stop > len_data:\n",
    "              break\n",
    "        \n",
    "  return windows\n",
    "\n",
    "time_windows = []\n",
    "num_labels = []\n",
    "for sample in samples:\n",
    "  new_windows = get_time_windows(samples[0], len_window_sec=5)\n",
    "  num_labels.append(len(new_windows))\n",
    "  print(np.array(new_windows).shape)\n",
    "  time_windows = time_windows + new_windows"
   ]
  },
  {
   "cell_type": "code",
   "execution_count": null,
   "metadata": {
    "executionInfo": {
     "elapsed": 10,
     "status": "aborted",
     "timestamp": 1669076149720,
     "user": {
      "displayName": "Justin Weinmeister",
      "userId": "08097657376930797622"
     },
     "user_tz": 300
    },
    "id": "8wfBEePwibjN"
   },
   "outputs": [],
   "source": [
    "new_labels = []\n",
    "for label in labels:\n",
    "  new_labels = new_labels + [label for num in num_labels]\n",
    "\n",
    "enc_labels = enc.transform(new_labels).toarray()\n",
    "print('Encoding is:')\n",
    "print(enc_labels)"
   ]
  },
  {
   "cell_type": "code",
   "execution_count": null,
   "metadata": {
    "executionInfo": {
     "elapsed": 10,
     "status": "aborted",
     "timestamp": 1669076149720,
     "user": {
      "displayName": "Justin Weinmeister",
      "userId": "08097657376930797622"
     },
     "user_tz": 300
    },
    "id": "Hp3oBzbmgtly"
   },
   "outputs": [],
   "source": [
    "train, test = cv.split(np.array(X), np.array(y.argmax(axis=1)))"
   ]
  },
  {
   "cell_type": "markdown",
   "metadata": {
    "id": "bpBXaHp0pf9e"
   },
   "source": [
    "## Feature Extraction"
   ]
  },
  {
   "cell_type": "code",
   "execution_count": null,
   "metadata": {
    "executionInfo": {
     "elapsed": 10,
     "status": "aborted",
     "timestamp": 1669076149720,
     "user": {
      "displayName": "Justin Weinmeister",
      "userId": "08097657376930797622"
     },
     "user_tz": 300
    },
    "id": "msEbVr5CpkxJ"
   },
   "outputs": [],
   "source": [
    "specs_reshape = []\n",
    "for i in range(len(specs)):\n",
    "  shape = np.array(specs[i]).shape\n",
    "  X = np.array(specs[i]).reshape(shape[0]*shape[1])\n",
    "  specs_reshape.append(X)\n",
    "  "
   ]
  },
  {
   "cell_type": "code",
   "execution_count": null,
   "metadata": {
    "executionInfo": {
     "elapsed": 10,
     "status": "aborted",
     "timestamp": 1669076149721,
     "user": {
      "displayName": "Justin Weinmeister",
      "userId": "08097657376930797622"
     },
     "user_tz": 300
    },
    "id": "AQxksTrXpnGF"
   },
   "outputs": [],
   "source": [
    "window_numbers = 20 ## need to be determined\n",
    "domain_fv = []\n",
    "\n",
    "for i in range(len(specs_reshape)):\n",
    "  #specs reshape: [frequency][time]\n",
    "  print(specs_reshape[0])\n",
    "  \n",
    "    # peak frequency\n",
    "      for \n",
    "\n",
    "    # zero crossing rate\n",
    "    # threshold crossing rate bandwidth\n",
    "\n",
    "    # MFCC\n",
    "    mfccs = lib_feature.mfcc(y=specs_reshape[i], sr=44100, n_mfcc=20, win_length = int(np.ceil(1024/window_numbers)), hop_length = int(np.ceil(1024/(2*window_numbers))))\n",
    "    mfccs_mean = np.mean(mfccs.T, axis=0)\n",
    "    #mfccs_mean=mfccs_mean.reshape(513,20)\n",
    "\n",
    "    # Spectral Centroid\n",
    "#     sc = lib_feature.spectral_centroid(y=spectrograms[i], sr=44100, win_length = int(np.ceil(1024/5)), hop_length = int(np.ceil(1024/10)))\n",
    "#     reshape_sc=[]\n",
    "#     for x in sc:\n",
    "#         for j in x:\n",
    "#             reshape_sc.append(j)\n",
    "\n",
    "    #all_features=list(zip(mfccs_mean,reshape_sc))\n",
    "    domain_fv.append(mfccs_mean)\n",
    "    "
   ]
  },
  {
   "cell_type": "markdown",
   "metadata": {
    "id": "EReY11hZdz2J"
   },
   "source": [
    "## Train Model"
   ]
  },
  {
   "cell_type": "code",
   "execution_count": null,
   "metadata": {
    "executionInfo": {
     "elapsed": 10,
     "status": "aborted",
     "timestamp": 1669076149721,
     "user": {
      "displayName": "Justin Weinmeister",
      "userId": "08097657376930797622"
     },
     "user_tz": 300
    },
    "id": "8r2UmYQmeGb4"
   },
   "outputs": [],
   "source": [
    "# Specify which data to use, these are the only parameters that should change, the rest should remain the same.\n",
    "X = time_windows\n",
    "y = enc_labels\n",
    "depth = 5\n",
    "\n",
    "\n",
    "# # Create our imputer to replace missing values with the mean \n",
    "# imp = SimpleImputer(missing_values=np.nan, strategy='mean')\n",
    "# imp = imp.fit(X)\n",
    "    \n",
    "# # Impute our data\n",
    "# X_imp = imp.transform(X)\n",
    "\n",
    "# Define model\n",
    "clf = RandomForestClassifier(max_depth=depth, random_state=0)\n",
    "\n",
    "# Define number of folds\n",
    "cv = StratifiedKFold(n_splits=10, shuffle=False)\n",
    "\n",
    "# Split data, train and test model on 10 folds\n",
    "split = 1\n",
    "scores = []\n",
    "confuse_mat = []\n",
    "for train_index, test_index in cv.split(np.array(X), np.array(y.argmax(axis=1))):\n",
    "    print(f\"Split {split}/10...\")\n",
    "    x_train, y_train = X[train_index], enc_labels[train_index]\n",
    "    x_test, y_test = X[test_index], enc_labels[test_index]\n",
    "    \n",
    "    \n",
    "    # Fit model and evaluate it\n",
    "    clf.fit(x_train, y_train)\n",
    "    scores.append(clf.score(x_test, y_test))\n",
    "    \n",
    "    # Construct confusion matrix\n",
    "    y_predict = clf.predict(x_test)\n",
    "    confuse_mat.append(confusion_matrix(y_test.argmax(axis=1), y_predict.argmax(axis=1)))\n",
    "    \n",
    "    # Iterate\n",
    "    split = split + 1\n",
    "    \n",
    "print(\"Mean accuracy:\" + str(np.mean(scores)))"
   ]
  },
  {
   "cell_type": "code",
   "execution_count": null,
   "metadata": {
    "executionInfo": {
     "elapsed": 10,
     "status": "aborted",
     "timestamp": 1669076149722,
     "user": {
      "displayName": "Justin Weinmeister",
      "userId": "08097657376930797622"
     },
     "user_tz": 300
    },
    "id": "LAMP1ouNdzQe"
   },
   "outputs": [],
   "source": [
    "# TODO: should probably do kfold but doing this just for testing purposes\n",
    "from sklearn.model_selection import train_test_split\n",
    "\n",
    "x_train, x_test, y_train, y_test = train_test_split(binned_data, enc_labels, test_size=.3, stratify=enc_labels)"
   ]
  },
  {
   "cell_type": "code",
   "execution_count": null,
   "metadata": {
    "executionInfo": {
     "elapsed": 10,
     "status": "aborted",
     "timestamp": 1669076149722,
     "user": {
      "displayName": "Justin Weinmeister",
      "userId": "08097657376930797622"
     },
     "user_tz": 300
    },
    "id": "wOmvyKZAfBv_"
   },
   "outputs": [],
   "source": [
    "clf = RandomForestClassifier()\n",
    "\n",
    "clf.fit(x_train, y_train)\n",
    "\n",
    "print(clf.score(x_test, y_test))"
   ]
  },
  {
   "cell_type": "markdown",
   "metadata": {
    "id": "ZG2uK2hZvEh-"
   },
   "source": [
    "## Save Model"
   ]
  },
  {
   "cell_type": "code",
   "execution_count": null,
   "metadata": {
    "executionInfo": {
     "elapsed": 10,
     "status": "aborted",
     "timestamp": 1669076149722,
     "user": {
      "displayName": "Justin Weinmeister",
      "userId": "08097657376930797622"
     },
     "user_tz": 300
    },
    "id": "E4cyLfFqgIY7"
   },
   "outputs": [],
   "source": [
    "import pickle\n",
    "\n",
    "pkl_filename = \"pickle_model.pkl\"\n",
    "\n",
    "# Note, for now this will only store the file in volitle memory in the notebook\n",
    "# To save permanently, most add file path to drive\n",
    "with open(pkl_filename, 'wb') as file:\n",
    "  pickle.dump(clf, file)"
   ]
  },
  {
   "cell_type": "markdown",
   "metadata": {
    "id": "Cuqmt22ZvGh5"
   },
   "source": [
    "## Load Model"
   ]
  },
  {
   "cell_type": "code",
   "execution_count": null,
   "metadata": {
    "executionInfo": {
     "elapsed": 10,
     "status": "aborted",
     "timestamp": 1669076149722,
     "user": {
      "displayName": "Justin Weinmeister",
      "userId": "08097657376930797622"
     },
     "user_tz": 300
    },
    "id": "bdAfRQ1svJ5L"
   },
   "outputs": [],
   "source": [
    "with open(pkl_filename, 'rb') as file:\n",
    "  pickle_model = pickle.load(file)"
   ]
  },
  {
   "cell_type": "code",
   "execution_count": null,
   "metadata": {
    "executionInfo": {
     "elapsed": 11,
     "status": "aborted",
     "timestamp": 1669076149723,
     "user": {
      "displayName": "Justin Weinmeister",
      "userId": "08097657376930797622"
     },
     "user_tz": 300
    },
    "id": "tCb5zXxpvnWi"
   },
   "outputs": [],
   "source": [
    "# Test saved model\n",
    "print(pickle_model.score(x_test, y_test))"
   ]
  }
 ],
 "metadata": {
  "colab": {
   "provenance": []
  },
  "kernelspec": {
   "display_name": "Python 3 (ipykernel)",
   "language": "python",
   "name": "python3"
  },
  "language_info": {
   "codemirror_mode": {
    "name": "ipython",
    "version": 3
   },
   "file_extension": ".py",
   "mimetype": "text/x-python",
   "name": "python",
   "nbconvert_exporter": "python",
   "pygments_lexer": "ipython3",
   "version": "3.8.15"
  },
  "varInspector": {
   "cols": {
    "lenName": 16,
    "lenType": 16,
    "lenVar": 40
   },
   "kernels_config": {
    "python": {
     "delete_cmd_postfix": "",
     "delete_cmd_prefix": "del ",
     "library": "var_list.py",
     "varRefreshCmd": "print(var_dic_list())"
    },
    "r": {
     "delete_cmd_postfix": ") ",
     "delete_cmd_prefix": "rm(",
     "library": "var_list.r",
     "varRefreshCmd": "cat(var_dic_list()) "
    }
   },
   "types_to_exclude": [
    "module",
    "function",
    "builtin_function_or_method",
    "instance",
    "_Feature"
   ],
   "window_display": false
  }
 },
 "nbformat": 4,
 "nbformat_minor": 1
}
