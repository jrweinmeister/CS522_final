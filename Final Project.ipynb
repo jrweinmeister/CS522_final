{
 "cells": [
  {
   "cell_type": "markdown",
   "metadata": {
    "id": "onWDuDrDOUzI"
   },
   "source": [
    "## Import Libraries"
   ]
  },
  {
   "cell_type": "code",
   "execution_count": 48,
   "metadata": {
    "executionInfo": {
     "elapsed": 3808,
     "status": "ok",
     "timestamp": 1669076076153,
     "user": {
      "displayName": "Justin Weinmeister",
      "userId": "08097657376930797622"
     },
     "user_tz": 300
    },
    "id": "dXptQZVP7haW"
   },
   "outputs": [],
   "source": [
    "import os\n",
    "import numpy as np\n",
    "from scipy import signal\n",
    "import matplotlib.pyplot as plt\n",
    "from cv2 import resize as cv2_resize\n",
    "from librosa import load as lib_load\n",
    "from librosa import feature as lib_feature\n",
    "import librosa\n",
    "\n",
    "# Import sci-kit models\n",
    "from sklearn.preprocessing import OneHotEncoder , RobustScaler\n",
    "from sklearn.ensemble import RandomForestClassifier\n",
    "from sklearn.model_selection import StratifiedKFold\n",
    "from sklearn.metrics import confusion_matrix\n",
    "from sklearn.svm import SVC"
   ]
  },
  {
   "cell_type": "markdown",
   "metadata": {
    "id": "VrkDhTp6OfaC"
   },
   "source": [
    "## Load Data"
   ]
  },
  {
   "cell_type": "code",
   "execution_count": 2,
   "metadata": {
    "executionInfo": {
     "elapsed": 7,
     "status": "ok",
     "timestamp": 1669076076154,
     "user": {
      "displayName": "Justin Weinmeister",
      "userId": "08097657376930797622"
     },
     "user_tz": 300
    },
    "id": "ugxJ8jLPz-o3"
   },
   "outputs": [],
   "source": [
    "# Launch Jupyter Notebook from the project folder\n",
    "root_path = os.getcwd()\n",
    "# Data is stored in the folder named \"Data\"\n",
    "path = os.path.join(root_path, 'Data')"
   ]
  },
  {
   "cell_type": "code",
   "execution_count": 30,
   "metadata": {},
   "outputs": [],
   "source": [
    "def load_data(path, sample_rate):\n",
    "    # Create data lists\n",
    "    samples = []\n",
    "    labels = []\n",
    "    classes = os.listdir(path)\n",
    "    print('Loading data...')\n",
    "\n",
    "    for file in os.listdir(path):\n",
    "        class_path = os.path.join(path, file)\n",
    "        for filename in os.listdir(class_path):\n",
    "            # Load data\n",
    "            y, s = lib_load(os.path.join(class_path,filename), sr=sample_rate)\n",
    "            # Append data and label\n",
    "            labels.append([file])\n",
    "            samples.append(y)\n",
    "            #print('Loaded {}'.format(filename))\n",
    "            \n",
    "    return samples, classes, labels"
   ]
  },
  {
   "cell_type": "code",
   "execution_count": 96,
   "metadata": {
    "colab": {
     "base_uri": "https://localhost:8080/"
    },
    "executionInfo": {
     "elapsed": 22,
     "status": "ok",
     "timestamp": 1669076126672,
     "user": {
      "displayName": "Justin Weinmeister",
      "userId": "08097657376930797622"
     },
     "user_tz": 300
    },
    "id": "c1iFq_ETMgBi",
    "outputId": "3e5746a8-48b4-4c6b-aabe-f2be12dcd93c"
   },
   "outputs": [
    {
     "name": "stdout",
     "output_type": "stream",
     "text": [
      "Loading data...\n",
      "Loaded data from the directory C:\\Users\\14w\\Documents\\CS522_final\\Data \n",
      "\n",
      "Loaded the classes: ['Dendropsophus bifurcus', 'Engystomops petersi', 'Pristimantis conspicillatus'] \n",
      "\n",
      "Loaded 31 samples with 31 labels \n",
      "\n",
      "Sample  0: \t 105.8s \t ['Dendropsophus bifurcus']\n",
      "Sample  1: \t 593.1s \t ['Dendropsophus bifurcus']\n",
      "Sample  2: \t 45.9s \t ['Dendropsophus bifurcus']\n",
      "Sample  3: \t 29.4s \t ['Dendropsophus bifurcus']\n",
      "Sample  4: \t 105.8s \t ['Dendropsophus bifurcus']\n",
      "Sample  5: \t 240.3s \t ['Dendropsophus bifurcus']\n",
      "Sample  6: \t 313.6s \t ['Dendropsophus bifurcus']\n",
      "Sample  7: \t 409.2s \t ['Dendropsophus bifurcus']\n",
      "Sample  8: \t 208.7s \t ['Dendropsophus bifurcus']\n",
      "Sample  9: \t 317.8s \t ['Dendropsophus bifurcus']\n",
      "Sample 10: \t 512.6s \t ['Engystomops petersi']\n",
      "Sample 11: \t 419.5s \t ['Engystomops petersi']\n",
      "Sample 12: \t 368.0s \t ['Engystomops petersi']\n",
      "Sample 13: \t 320.0s \t ['Engystomops petersi']\n",
      "Sample 14: \t 641.0s \t ['Engystomops petersi']\n",
      "Sample 15: \t 1018.6s \t ['Engystomops petersi']\n",
      "Sample 16: \t 504.0s \t ['Engystomops petersi']\n",
      "Sample 17: \t 67.1s \t ['Engystomops petersi']\n",
      "Sample 18: \t 79.8s \t ['Engystomops petersi']\n",
      "Sample 19: \t 132.2s \t ['Engystomops petersi']\n",
      "Sample 20: \t 356.8s \t ['Engystomops petersi']\n",
      "Sample 21: \t 224.5s \t ['Engystomops petersi']\n",
      "Sample 22: \t 264.1s \t ['Pristimantis conspicillatus']\n",
      "Sample 23: \t 227.3s \t ['Pristimantis conspicillatus']\n",
      "Sample 24: \t 203.4s \t ['Pristimantis conspicillatus']\n",
      "Sample 25: \t 307.5s \t ['Pristimantis conspicillatus']\n",
      "Sample 26: \t 119.8s \t ['Pristimantis conspicillatus']\n",
      "Sample 27: \t 235.8s \t ['Pristimantis conspicillatus']\n",
      "Sample 28: \t 200.5s \t ['Pristimantis conspicillatus']\n",
      "Sample 29: \t 257.5s \t ['Pristimantis conspicillatus']\n",
      "Sample 30: \t 80.8s \t ['Pristimantis conspicillatus']\n"
     ]
    }
   ],
   "source": [
    "# Define sample rate\n",
    "sample_rate = 44_100\n",
    "# Load data\n",
    "samples, classes, labels = load_data(path, sample_rate)\n",
    "# Save full data set if samples is overwritten (sub-sampling) later\n",
    "full_samples = samples\n",
    "\n",
    "# Print data information\n",
    "print('Loaded data from the directory {} \\n'.format(path))\n",
    "print('Loaded the classes: {} \\n'.format(classes))\n",
    "print('Loaded {} samples with {} labels \\n'.format(len(samples), len(labels)))\n",
    "\n",
    "# Check lengths of samples and their labels\n",
    "for idx, sample in enumerate(samples):\n",
    "  print('Sample {:2}: \\t {:.1f}s \\t {}'.format(idx, len(sample)/sample_rate, labels[idx]))"
   ]
  },
  {
   "cell_type": "markdown",
   "metadata": {},
   "source": [
    "### Plot Data"
   ]
  },
  {
   "cell_type": "code",
   "execution_count": 97,
   "metadata": {},
   "outputs": [
    {
     "data": {
      "text/plain": [
       "[<matplotlib.lines.Line2D at 0x1a18b14ffa0>]"
      ]
     },
     "execution_count": 97,
     "metadata": {},
     "output_type": "execute_result"
    },
    {
     "data": {
      "image/png": "[encoded data removed]",
      "text/plain": [
       "<Figure size 640x480 with 1 Axes>"
      ]
     },
     "metadata": {},
     "output_type": "display_data"
    }
   ],
   "source": [
    "# Choose series to plot\n",
    "sample = samples[2]\n",
    "plt.plot(np.linspace(0, len(sample)/sample_rate, len(sample)), sample)"
   ]
  },
  {
   "cell_type": "markdown",
   "metadata": {},
   "source": [
    "### Down-sample Data to 18 Seconds"
   ]
  },
  {
   "cell_type": "code",
   "execution_count": 78,
   "metadata": {},
   "outputs": [],
   "source": [
    "# If True, data is down sampled. Specify subsampled time below.\n",
    "if True:\n",
    "    # Specify down-sample time in seconds and number of samples\n",
    "    subsample_time = 18\n",
    "    subsample_samples = subsample_time * sample_rate\n",
    "    # Create sub-sampled data\n",
    "    subsamples = []\n",
    "    validation_samples = []\n",
    "    for sample in full_samples:\n",
    "        # Get correct indicies\n",
    "        start = 0 #np.random.randint(0, len(sample) - subsample_samples)\n",
    "        end = start + subsample_samples\n",
    "        if end >= len(sample):\n",
    "            start = start - 1\n",
    "            end = end - 1\n",
    "        # Create sub-sampled array\n",
    "        subsamples.append(sample[start:end])\n",
    "        # Create training matrix from remaining data by taking the longer of the remaining samples.\n",
    "        # Training samples are not added to avoid creating splicing artifacts\n",
    "        train1 = sample[0:start]\n",
    "        train2 = sample[end:-1]\n",
    "        if len(train1) > len(train2):\n",
    "            validation_samples.append(train1)\n",
    "        else:\n",
    "            validation_samples.append(train2)\n",
    "\n",
    "    # Overwrite samples data with subsamples\n",
    "    samples = subsamples"
   ]
  },
  {
   "cell_type": "markdown",
   "metadata": {
    "id": "LpDV974SVO1R"
   },
   "source": [
    "## Encode labels"
   ]
  },
  {
   "cell_type": "code",
   "execution_count": 79,
   "metadata": {
    "colab": {
     "base_uri": "https://localhost:8080/"
    },
    "executionInfo": {
     "elapsed": 17,
     "status": "ok",
     "timestamp": 1669076126672,
     "user": {
      "displayName": "Justin Weinmeister",
      "userId": "08097657376930797622"
     },
     "user_tz": 300
    },
    "id": "yFm7OkhQVNeo",
    "outputId": "c3e3bacd-fc1a-4f31-c668-e916f1fd4850"
   },
   "outputs": [
    {
     "name": "stdout",
     "output_type": "stream",
     "text": [
      "Encoding is [1. 0. 0.], label is ['Dendropsophus bifurcus']\n",
      "Encoding is [1. 0. 0.], label is ['Dendropsophus bifurcus']\n",
      "Encoding is [1. 0. 0.], label is ['Dendropsophus bifurcus']\n",
      "Encoding is [1. 0. 0.], label is ['Dendropsophus bifurcus']\n",
      "Encoding is [1. 0. 0.], label is ['Dendropsophus bifurcus']\n",
      "Encoding is [1. 0. 0.], label is ['Dendropsophus bifurcus']\n",
      "Encoding is [1. 0. 0.], label is ['Dendropsophus bifurcus']\n",
      "Encoding is [1. 0. 0.], label is ['Dendropsophus bifurcus']\n",
      "Encoding is [1. 0. 0.], label is ['Dendropsophus bifurcus']\n",
      "Encoding is [1. 0. 0.], label is ['Dendropsophus bifurcus']\n",
      "Encoding is [0. 1. 0.], label is ['Engystomops petersi']\n",
      "Encoding is [0. 1. 0.], label is ['Engystomops petersi']\n",
      "Encoding is [0. 1. 0.], label is ['Engystomops petersi']\n",
      "Encoding is [0. 1. 0.], label is ['Engystomops petersi']\n",
      "Encoding is [0. 1. 0.], label is ['Engystomops petersi']\n",
      "Encoding is [0. 1. 0.], label is ['Engystomops petersi']\n",
      "Encoding is [0. 1. 0.], label is ['Engystomops petersi']\n",
      "Encoding is [0. 1. 0.], label is ['Engystomops petersi']\n",
      "Encoding is [0. 1. 0.], label is ['Engystomops petersi']\n",
      "Encoding is [0. 1. 0.], label is ['Engystomops petersi']\n",
      "Encoding is [0. 1. 0.], label is ['Engystomops petersi']\n",
      "Encoding is [0. 1. 0.], label is ['Engystomops petersi']\n",
      "Encoding is [0. 0. 1.], label is ['Pristimantis conspicillatus']\n",
      "Encoding is [0. 0. 1.], label is ['Pristimantis conspicillatus']\n",
      "Encoding is [0. 0. 1.], label is ['Pristimantis conspicillatus']\n",
      "Encoding is [0. 0. 1.], label is ['Pristimantis conspicillatus']\n",
      "Encoding is [0. 0. 1.], label is ['Pristimantis conspicillatus']\n",
      "Encoding is [0. 0. 1.], label is ['Pristimantis conspicillatus']\n",
      "Encoding is [0. 0. 1.], label is ['Pristimantis conspicillatus']\n",
      "Encoding is [0. 0. 1.], label is ['Pristimantis conspicillatus']\n",
      "Encoding is [0. 0. 1.], label is ['Pristimantis conspicillatus']\n"
     ]
    }
   ],
   "source": [
    "# Reshape classes list\n",
    "unique_classes = [[c] for c in classes]\n",
    "\n",
    "# Create encoder, fit, and check encoding\n",
    "enc = OneHotEncoder()\n",
    "enc.fit(unique_classes)\n",
    "enc_labels = enc.transform(labels).toarray()\n",
    "for idx, item in enumerate(enc_labels):\n",
    "    print('Encoding is {}, label is {}'.format(enc_labels[idx], labels[idx]))"
   ]
  },
  {
   "cell_type": "markdown",
   "metadata": {
    "id": "szbETrq7cvJx"
   },
   "source": [
    "## Get Spectrograms"
   ]
  },
  {
   "cell_type": "code",
   "execution_count": 80,
   "metadata": {
    "executionInfo": {
     "elapsed": 15,
     "status": "ok",
     "timestamp": 1669076126673,
     "user": {
      "displayName": "Justin Weinmeister",
      "userId": "08097657376930797622"
     },
     "user_tz": 300
    },
    "id": "fziIJu_wXRpf"
   },
   "outputs": [],
   "source": [
    "def get_spectrograms(data, fft_size=1_024, sample_rate=44_100):\n",
    "    ## Compute Fast Fourier Transform of data\n",
    "    # Create FFT list\n",
    "    f = []\n",
    "    t = []\n",
    "    pxx = []\n",
    "    \n",
    "    print(\"Calculating FFTs for data ...\")\n",
    "    for datum in data:\n",
    "        f_idx, t_idx, pxx_idx = signal.spectrogram(datum, nperseg=fft_size, fs=sample_rate, noverlap=fft_size/2)\n",
    "        \n",
    "        f.append(f_idx)\n",
    "        t.append(t_idx)\n",
    "        pxx.append(pxx_idx)\n",
    "\n",
    "    return f, t, pxx"
   ]
  },
  {
   "cell_type": "code",
   "execution_count": 81,
   "metadata": {
    "colab": {
     "base_uri": "https://localhost:8080/"
    },
    "executionInfo": {
     "elapsed": 20204,
     "status": "ok",
     "timestamp": 1669076146863,
     "user": {
      "displayName": "Justin Weinmeister",
      "userId": "08097657376930797622"
     },
     "user_tz": 300
    },
    "id": "KbNO827WXgUW",
    "outputId": "a302b663-51d8-4f8e-c29e-1564d162b729"
   },
   "outputs": [
    {
     "name": "stdout",
     "output_type": "stream",
     "text": [
      "Calculating FFTs for data ...\n",
      "Spectrograms: \t 31\n",
      "Frequency bins: 513 \n",
      "\n",
      "Spectrogram 0 time bins: \t 1032\n",
      "Spectrogram 1 time bins: \t 1032\n",
      "Spectrogram 2 time bins: \t 1032\n",
      "Spectrogram 3 time bins: \t 1032\n",
      "Spectrogram 4 time bins: \t 1032\n",
      "Spectrogram 5 time bins: \t 1032\n",
      "Spectrogram 6 time bins: \t 1032\n",
      "Spectrogram 7 time bins: \t 1032\n",
      "Spectrogram 8 time bins: \t 1032\n",
      "Spectrogram 9 time bins: \t 1032\n",
      "Spectrogram 10 time bins: \t 1032\n",
      "Spectrogram 11 time bins: \t 1032\n",
      "Spectrogram 12 time bins: \t 1032\n",
      "Spectrogram 13 time bins: \t 1032\n",
      "Spectrogram 14 time bins: \t 1032\n",
      "Spectrogram 15 time bins: \t 1032\n",
      "Spectrogram 16 time bins: \t 1032\n",
      "Spectrogram 17 time bins: \t 1032\n",
      "Spectrogram 18 time bins: \t 1032\n",
      "Spectrogram 19 time bins: \t 1032\n",
      "Spectrogram 20 time bins: \t 1032\n",
      "Spectrogram 21 time bins: \t 1032\n",
      "Spectrogram 22 time bins: \t 1032\n",
      "Spectrogram 23 time bins: \t 1032\n",
      "Spectrogram 24 time bins: \t 1032\n",
      "Spectrogram 25 time bins: \t 1032\n",
      "Spectrogram 26 time bins: \t 1032\n",
      "Spectrogram 27 time bins: \t 1032\n",
      "Spectrogram 28 time bins: \t 1032\n",
      "Spectrogram 29 time bins: \t 1032\n",
      "Spectrogram 30 time bins: \t 1032\n"
     ]
    }
   ],
   "source": [
    "# Specify FFT size\n",
    "fft_size = 1024\n",
    "# Load data\n",
    "freqs, times, specs = get_spectrograms(samples, fft_size, sample_rate)\n",
    "\n",
    "# Check spectrogram data shapes\n",
    "print('Spectrograms: \\t {}'.format(len(specs)))\n",
    "print('Frequency bins: {} \\n'.format(len(specs[0])))\n",
    "for idx, spec in enumerate(specs):\n",
    "    print('Spectrogram {} time bins: \\t {}'.format(idx, len(spec[0])))"
   ]
  },
  {
   "cell_type": "markdown",
   "metadata": {
    "id": "R6ddv2pYctF1"
   },
   "source": [
    "## Binning Data"
   ]
  },
  {
   "cell_type": "code",
   "execution_count": 82,
   "metadata": {
    "executionInfo": {
     "elapsed": 13,
     "status": "ok",
     "timestamp": 1669076146864,
     "user": {
      "displayName": "Justin Weinmeister",
      "userId": "08097657376930797622"
     },
     "user_tz": 300
    },
    "id": "CXo9zG8xcsnf"
   },
   "outputs": [],
   "source": [
    "def get_bins(data, num_freq_bins=5, num_time_bins=5):\n",
    "    binned_data = []\n",
    "        \n",
    "    # Get individual samples\n",
    "    for datum in data:\n",
    "        #Open CV's resize takes (columns,rows) as the input for desired size\n",
    "        resized_pxx=cv2_resize(datum[:,:],(num_time_bins,num_freq_bins))\n",
    "        binned_data.append(resized_pxx.flatten())\n",
    "            \n",
    "    return binned_data"
   ]
  },
  {
   "cell_type": "code",
   "execution_count": 83,
   "metadata": {
    "executionInfo": {
     "elapsed": 2564,
     "status": "ok",
     "timestamp": 1669076149416,
     "user": {
      "displayName": "Justin Weinmeister",
      "userId": "08097657376930797622"
     },
     "user_tz": 300
    },
    "id": "gpqMD2dFc2p_"
   },
   "outputs": [
    {
     "name": "stdout",
     "output_type": "stream",
     "text": [
      "Binned spectrograms: \t 31\n",
      "Number of bins: \t 25\n"
     ]
    }
   ],
   "source": [
    "# Define bins\n",
    "freq_bins = 5\n",
    "time_bins = 5\n",
    "# Get binned data\n",
    "binned_specs = get_bins(specs, freq_bins, time_bins)\n",
    "\n",
    "# Print bin shapes\n",
    "print('Binned spectrograms: \\t {}'.format(len(binned_specs)))\n",
    "print('Number of bins: \\t {}'.format(len(binned_specs[0])))"
   ]
  },
  {
   "cell_type": "markdown",
   "metadata": {
    "id": "_4ryaczTeG8C"
   },
   "source": [
    "## Get Windows"
   ]
  },
  {
   "cell_type": "code",
   "execution_count": 84,
   "metadata": {
    "executionInfo": {
     "elapsed": 10,
     "status": "aborted",
     "timestamp": 1669076149719,
     "user": {
      "displayName": "Justin Weinmeister",
      "userId": "08097657376930797622"
     },
     "user_tz": 300
    },
    "id": "pvtM9gi8exex"
   },
   "outputs": [],
   "source": [
    "def get_time_windows(data, len_window=1, overlap=0, sample_rate=44_100):\n",
    "    # Print values of windows\n",
    "    print('Extracting time windows {}s long with {}% overlap. \\n'.format(len_window, overlap*100))\n",
    "    # Define window interval lengths and number of samples per interval\n",
    "    interval_samples = len_window * sample_rate\n",
    "    \n",
    "    windows = []\n",
    "    for idx, datum in enumerate(data):\n",
    "        # Define sample time values\n",
    "        total_time = len(datum) / sample_rate\n",
    "        start_time = len_window * overlap\n",
    "        overlap_time = len_window * overlap\n",
    "        # Define vector of window center time values\n",
    "        times = np.arange(start_time, total_time - overlap_time, len_window)\n",
    "\n",
    "        # Create windows\n",
    "        datum_windows = []\n",
    "        for iidx, time in enumerate(times):\n",
    "            low_time = interval_samples * iidx\n",
    "            high_time = interval_samples * (iidx+1) - 1\n",
    "            window = datum[low_time:high_time]\n",
    "            datum_windows.append(window)\n",
    "        \n",
    "        windows.append(datum_windows)\n",
    "\n",
    "    return windows"
   ]
  },
  {
   "cell_type": "code",
   "execution_count": 85,
   "metadata": {},
   "outputs": [],
   "source": [
    "def get_freq_windows(data, len_window=1, overlap=0, sample_rate=44_100, fft_window=512):\n",
    "    # Print values of windows\n",
    "    print('Extracting frequency windows {}s long with {}% overlap. \\n'.format(len_window, overlap*100))\n",
    "    # Define samples per interval\n",
    "    interval_samples = round(len_window * sample_rate / fft_window // 1)\n",
    "    \n",
    "    windows = []\n",
    "    for idx, datum in enumerate(data):\n",
    "        # Define sample time values\n",
    "        total_time = datum.shape[1] * fft_window / sample_rate\n",
    "        start_time = len_window * overlap\n",
    "        overlap_time = len_window * overlap\n",
    "        # Define vector of window center time values\n",
    "        times = np.arange(start_time, total_time - overlap_time, len_window)\n",
    "\n",
    "        # Create windows\n",
    "        datum_windows = []\n",
    "        for iidx, time in enumerate(times):\n",
    "            low_time = interval_samples * iidx\n",
    "            high_time = interval_samples * (iidx+1) - 1\n",
    "            window = np.array(datum[:, low_time:high_time])\n",
    "            datum_windows.append(window)\n",
    "        \n",
    "        windows.append(datum_windows)\n",
    "\n",
    "    return windows"
   ]
  },
  {
   "cell_type": "code",
   "execution_count": 86,
   "metadata": {},
   "outputs": [],
   "source": [
    "def get_windowed_labels(labels, windowed_data):\n",
    "    # Initialize output list and iterate over non-windowed labels\n",
    "    windowed_labels = []\n",
    "    for idx, label in enumerate(labels):\n",
    "        # Compute number of windows for sample associated with label\n",
    "        num_windows = len(windowed_samples[idx])\n",
    "        # Create list of label repeated for each window\n",
    "        windowed_label = []\n",
    "        for idx in range(0, num_windows):\n",
    "            windowed_label.append(label)\n",
    "            \n",
    "        windowed_labels.append(windowed_label)\n",
    "        \n",
    "    return windowed_labels"
   ]
  },
  {
   "cell_type": "code",
   "execution_count": 87,
   "metadata": {},
   "outputs": [
    {
     "name": "stdout",
     "output_type": "stream",
     "text": [
      "Extracting time windows 5s long with 50.0% overlap. \n",
      "\n",
      "Extracting frequency windows 5s long with 50.0% overlap. \n",
      "\n",
      "Windows in sample 0: \t 2\n",
      "Windows in sample 1: \t 2\n",
      "Windows in sample 2: \t 2\n",
      "Windows in sample 3: \t 2\n",
      "Windows in sample 4: \t 2\n",
      "Windows in sample 5: \t 2\n",
      "Windows in sample 6: \t 2\n",
      "Windows in sample 7: \t 2\n",
      "Windows in sample 8: \t 2\n",
      "Windows in sample 9: \t 2\n",
      "Windows in sample 10: \t 2\n",
      "Windows in sample 11: \t 2\n",
      "Windows in sample 12: \t 2\n",
      "Windows in sample 13: \t 2\n",
      "Windows in sample 14: \t 2\n",
      "Windows in sample 15: \t 2\n",
      "Windows in sample 16: \t 2\n",
      "Windows in sample 17: \t 2\n",
      "Windows in sample 18: \t 2\n",
      "Windows in sample 19: \t 2\n",
      "Windows in sample 20: \t 2\n",
      "Windows in sample 21: \t 2\n",
      "Windows in sample 22: \t 2\n",
      "Windows in sample 23: \t 2\n",
      "Windows in sample 24: \t 2\n",
      "Windows in sample 25: \t 2\n",
      "Windows in sample 26: \t 2\n",
      "Windows in sample 27: \t 2\n",
      "Windows in sample 28: \t 2\n",
      "Windows in sample 29: \t 2\n",
      "Windows in sample 30: \t 2\n"
     ]
    }
   ],
   "source": [
    "# Define time windows of interest\n",
    "len_window = 5\n",
    "window_overlap = 0.5\n",
    "\n",
    "# Get time windows\n",
    "windowed_samples = get_time_windows(samples, len_window, window_overlap, sample_rate)\n",
    "# Get frequency windows\n",
    "windowed_specs = get_freq_windows(specs, len_window, window_overlap, sample_rate, fft_size/2)\n",
    "# Get windowed labels\n",
    "windowed_labels = get_windowed_labels(labels, windowed_samples)\n",
    "# Get encoded windowed labels\n",
    "enc_windowed_labels = get_windowed_labels(enc_labels, windowed_samples)\n",
    "\n",
    "# Print data shapes\n",
    "for idx, sample in enumerate(windowed_samples):\n",
    "    print('Windows in sample {}: \\t {}'.format(idx, len(sample)))"
   ]
  },
  {
   "cell_type": "markdown",
   "metadata": {},
   "source": [
    "### Flatten windowed arrays, optional"
   ]
  },
  {
   "cell_type": "code",
   "execution_count": 88,
   "metadata": {},
   "outputs": [],
   "source": [
    "def flatten_windows(samples):\n",
    "    flat = []\n",
    "    for sample in samples:\n",
    "        for data in sample:\n",
    "            flat.append(data)\n",
    "            \n",
    "    return flat"
   ]
  },
  {
   "cell_type": "code",
   "execution_count": 89,
   "metadata": {},
   "outputs": [
    {
     "name": "stdout",
     "output_type": "stream",
     "text": [
      "Samples length: \t 62\n",
      "Spectrograms length: \t 62\n",
      "Labels length: \t 62\n"
     ]
    }
   ],
   "source": [
    "# Flatten windowed time series data, spectrograms, and labels if True\n",
    "if True:\n",
    "    windowed_samples = flatten_windows(windowed_samples)\n",
    "    windowed_specs = flatten_windows(windowed_specs)\n",
    "    windowed_labels = flatten_windows(windowed_labels)\n",
    "    enc_windowed_labels = flatten_windows(enc_windowed_labels)\n",
    "    print('Samples length: \\t {}'.format(len(windowed_samples)))\n",
    "    print('Spectrograms length: \\t {}'.format(len(windowed_specs)))\n",
    "    print('Labels length: \\t {}'.format(len(windowed_labels)))"
   ]
  },
  {
   "cell_type": "markdown",
   "metadata": {
    "id": "bpBXaHp0pf9e"
   },
   "source": [
    "## Feature Extraction"
   ]
  },
  {
   "cell_type": "code",
   "execution_count": 90,
   "metadata": {
    "executionInfo": {
     "elapsed": 10,
     "status": "aborted",
     "timestamp": 1669076149721,
     "user": {
      "displayName": "Justin Weinmeister",
      "userId": "08097657376930797622"
     },
     "user_tz": 300
    },
    "id": "AQxksTrXpnGF"
   },
   "outputs": [
    {
     "name": "stdout",
     "output_type": "stream",
     "text": [
      "Features extracted\n"
     ]
    }
   ],
   "source": [
    "window_numbers = 20 ## need to be determined\n",
    "domain_fv = []\n",
    "FFT_size=fft_size\n",
    "\n",
    "for i in range(len(samples)):\n",
    "    #specs reshape: [frequency][time]\n",
    "#     print('Initial spectrogram shape: \\t {}'.format(specs[i].shape))\n",
    "#     print('New specrogram length: \\t {} \\n'.format(specs_reshape[i].shape))\n",
    "\n",
    "    # peak frequency\n",
    "\n",
    "    # zero crossing rate\n",
    "    # threshold crossing rate \n",
    "\n",
    "    # MFCC\n",
    "    mfccs = lib_feature.mfcc(y=samples[i], sr=sample_rate, n_mfcc=10, win_length = int(np.ceil(FFT_size/window_numbers)), hop_length = int(np.ceil(FFT_size/(2*window_numbers))))\n",
    "    mfccs_mean = np.mean(mfccs.T, axis=0)\n",
    "\n",
    "    # Spectral Centroid\n",
    "    sc = lib_feature.spectral_centroid(y=samples[i], sr=sample_rate, win_length = int(np.ceil(FFT_size/window_numbers)), hop_length = int(np.ceil(FFT_size/(2*window_numbers))))\n",
    "    reshape_sc=[]\n",
    "    for x in sc:\n",
    "        for j in x:\n",
    "            reshape_sc.append(j)\n",
    "    max_sc = max(reshape_sc)\n",
    "    min_sc = min(reshape_sc)\n",
    "    mean_sc = np.mean(reshape_sc)\n",
    "    sc_fv = [max_sc, min_sc, mean_sc]\n",
    "\n",
    "    # Bandwidth\n",
    "    bw = librosa.feature.spectral_bandwidth(y=samples[i], sr=sample_rate, win_length = int(np.ceil(FFT_size/window_numbers)), hop_length = int(np.ceil(FFT_size/(2*window_numbers))))\n",
    "    reshape_bw=[]\n",
    "    for x in bw:\n",
    "        for j in x:\n",
    "            reshape_bw.append(j)\n",
    "    max_bw = max(reshape_bw)\n",
    "    min_bw = min(reshape_bw)\n",
    "    mean_bw = np.mean(reshape_bw)\n",
    "    bw_fv = [max_bw, min_bw, mean_bw]\n",
    "\n",
    "    # Combine all features for each sample\n",
    "    all_fv = [mfccs_mean,sc_fv,bw_fv]\n",
    "    reshape_fv=[]\n",
    "    for x in all_fv:\n",
    "        for j in x:\n",
    "            reshape_fv.append(j)\n",
    "            \n",
    "    # Get features for all samples\n",
    "    domain_fv.append(reshape_fv)\n",
    "\n",
    "print('Features extracted')"
   ]
  },
  {
   "cell_type": "markdown",
   "metadata": {
    "id": "EReY11hZdz2J"
   },
   "source": [
    "## Train Model"
   ]
  },
  {
   "cell_type": "markdown",
   "metadata": {},
   "source": [
    "### I . Using only feature data"
   ]
  },
  {
   "cell_type": "markdown",
   "metadata": {},
   "source": [
    "#### Random Forest"
   ]
  },
  {
   "cell_type": "code",
   "execution_count": 91,
   "metadata": {
    "executionInfo": {
     "elapsed": 10,
     "status": "aborted",
     "timestamp": 1669076149721,
     "user": {
      "displayName": "Justin Weinmeister",
      "userId": "08097657376930797622"
     },
     "user_tz": 300
    },
    "id": "8r2UmYQmeGb4"
   },
   "outputs": [
    {
     "name": "stderr",
     "output_type": "stream",
     "text": [
      "C:\\Users\\14w\\Anaconda3\\envs\\ml3\\lib\\site-packages\\sklearn\\model_selection\\_split.py:684: UserWarning: The least populated class in y has only 9 members, which is less than n_splits=10.\n",
      "  warnings.warn(\n"
     ]
    },
    {
     "name": "stdout",
     "output_type": "stream",
     "text": [
      "Split 1/10...\n",
      "Split 2/10...\n",
      "Split 3/10...\n",
      "Split 4/10...\n",
      "Split 5/10...\n",
      "Split 6/10...\n",
      "Split 7/10...\n",
      "Split 8/10...\n",
      "Split 9/10...\n",
      "Split 10/10...\n",
      "Mean accuracy:0.39999999999999997\n"
     ]
    }
   ],
   "source": [
    "# Specify which data to use, these are the only parameters that should change, the rest should remain the same.\n",
    "X = domain_fv\n",
    "y = enc_labels\n",
    "depth = 5\n",
    "\n",
    "# Convert X to numpy array if not imputing\n",
    "X = np.asarray(X)\n",
    "y = np.asarray(y)\n",
    "\n",
    "# Define model\n",
    "clf = RandomForestClassifier(max_depth=depth, random_state=0)\n",
    "\n",
    "# Define number of folds\n",
    "cv = StratifiedKFold(n_splits=10, shuffle=False)\n",
    "\n",
    "# Split data, train and test model on 10 folds\n",
    "split = 1\n",
    "scores = []\n",
    "confuse_mat = []\n",
    "for train_index, test_index in cv.split(np.array(X), np.array(y.argmax(axis=1))):\n",
    "    print(f\"Split {split}/10...\")\n",
    "    x_train, y_train = X[train_index], y[train_index]\n",
    "    x_test, y_test = X[test_index], y[test_index]\n",
    "    \n",
    "    \n",
    "    # Fit model and evaluate it\n",
    "    clf.fit(x_train, y_train)\n",
    "    scores.append(clf.score(x_test, y_test))\n",
    "    \n",
    "    # Construct confusion matrix\n",
    "    y_predict = clf.predict(x_test)\n",
    "    confuse_mat.append(confusion_matrix(y_test.argmax(axis=1), y_predict.argmax(axis=1)))\n",
    "    \n",
    "    # Iterate\n",
    "    split = split + 1\n",
    "    \n",
    "print(\"Mean accuracy:\" + str(np.mean(scores)))"
   ]
  },
  {
   "cell_type": "markdown",
   "metadata": {},
   "source": [
    "#### SVM"
   ]
  },
  {
   "cell_type": "code",
   "execution_count": 92,
   "metadata": {
    "executionInfo": {
     "elapsed": 10,
     "status": "aborted",
     "timestamp": 1669076149721,
     "user": {
      "displayName": "Justin Weinmeister",
      "userId": "08097657376930797622"
     },
     "user_tz": 300
    },
    "id": "8r2UmYQmeGb4"
   },
   "outputs": [
    {
     "name": "stderr",
     "output_type": "stream",
     "text": [
      "C:\\Users\\14w\\Anaconda3\\envs\\ml3\\lib\\site-packages\\sklearn\\model_selection\\_split.py:684: UserWarning: The least populated class in y has only 9 members, which is less than n_splits=10.\n",
      "  warnings.warn(\n"
     ]
    },
    {
     "name": "stdout",
     "output_type": "stream",
     "text": [
      "Split 1/10...\n",
      "Split 2/10...\n",
      "Split 3/10...\n",
      "Split 4/10...\n",
      "Split 5/10...\n",
      "Split 6/10...\n",
      "Split 7/10...\n",
      "Split 8/10...\n",
      "Split 9/10...\n",
      "Split 10/10...\n",
      "Mean accuracy:0.4416666666666666\n"
     ]
    }
   ],
   "source": [
    "# Specify which data to use, these are the only parameters that should change, the rest should remain the same.\n",
    "X = domain_fv\n",
    "y = enc_labels\n",
    "y = y.argmax(axis=1)\n",
    "depth = 5\n",
    "\n",
    "# Convert X to numpy array if not imputing\n",
    "X = np.asarray(X)\n",
    "y = np.asarray(y)\n",
    "\n",
    "# Define model\n",
    "clf = SVC(kernel='linear',random_state = 0)\n",
    "\n",
    "# Define number of folds\n",
    "cv = StratifiedKFold(n_splits=10, shuffle=False)\n",
    "\n",
    "# Split data, train and test model on 10 folds\n",
    "split = 1\n",
    "scores = []\n",
    "confuse_mat = []\n",
    "for train_index, test_index in cv.split(X,y):\n",
    "    print(f\"Split {split}/10...\")\n",
    "    x_train, y_train = X[train_index], y[train_index]\n",
    "    x_test, y_test = X[test_index], y[test_index]\n",
    "    \n",
    "    \n",
    "    # Fit model and evaluate it\n",
    "    clf.fit(x_train, y_train)\n",
    "    scores.append(clf.score(x_test, y_test))\n",
    "    \n",
    "    # Construct confusion matrix\n",
    "    y_predict = clf.predict(x_test)\n",
    "    confuse_mat.append(confusion_matrix(y_test, y_predict))\n",
    "    \n",
    "    # Iterate\n",
    "    split = split + 1\n",
    "    \n",
    "print(\"Mean accuracy:\" + str(np.mean(scores)))"
   ]
  },
  {
   "cell_type": "markdown",
   "metadata": {},
   "source": [
    "### II. Using binned data + feature data"
   ]
  },
  {
   "cell_type": "code",
   "execution_count": 93,
   "metadata": {},
   "outputs": [],
   "source": [
    "# Combine features and binned data\n",
    "\n",
    "all_features =[]\n",
    "for i in range(len(domain_fv)):\n",
    "    l=[domain_fv[i],list(binned_specs[i])]\n",
    "    l=[item for sublist in l for item in sublist]\n",
    "    all_features.append(l)\n",
    "all_features=np.array(all_features, dtype = object)"
   ]
  },
  {
   "cell_type": "code",
   "execution_count": 94,
   "metadata": {},
   "outputs": [],
   "source": [
    "## Normalize \n",
    "\n",
    "scaler = RobustScaler()\n",
    "all_features = scaler.fit_transform(all_features)"
   ]
  },
  {
   "cell_type": "code",
   "execution_count": 95,
   "metadata": {},
   "outputs": [
    {
     "name": "stdout",
     "output_type": "stream",
     "text": [
      "Split 1/10...\n"
     ]
    },
    {
     "name": "stderr",
     "output_type": "stream",
     "text": [
      "C:\\Users\\14w\\Anaconda3\\envs\\ml3\\lib\\site-packages\\sklearn\\model_selection\\_split.py:684: UserWarning: The least populated class in y has only 9 members, which is less than n_splits=10.\n",
      "  warnings.warn(\n"
     ]
    },
    {
     "name": "stdout",
     "output_type": "stream",
     "text": [
      "Split 2/10...\n",
      "Split 3/10...\n",
      "Split 4/10...\n",
      "Split 5/10...\n",
      "Split 6/10...\n",
      "Split 7/10...\n",
      "Split 8/10...\n",
      "Split 9/10...\n",
      "Split 10/10...\n",
      "Mean accuracy:0.16666666666666666\n"
     ]
    }
   ],
   "source": [
    "# Specify which data to use, these are the only parameters that should change, the rest should remain the same.\n",
    "X = binned_specs\n",
    "y = enc_labels\n",
    "depth = 5\n",
    "\n",
    "# Convert X to numpy array if not imputing\n",
    "X = np.asarray(X)\n",
    "y = np.asarray(y)\n",
    "\n",
    "# # Create our imputer to replace missing values with the mean \n",
    "# imp = SimpleImputer(missing_values=np.nan, strategy='mean')\n",
    "# imp = imp.fit(X)\n",
    "    \n",
    "# # Impute our data\n",
    "# X_imp = imp.transform(X)\n",
    "\n",
    "# Define model\n",
    "clf = RandomForestClassifier(max_depth=depth, random_state=0)\n",
    "\n",
    "# Define number of folds\n",
    "cv = StratifiedKFold(n_splits=10, shuffle=False)\n",
    "\n",
    "# Split data, train and test model on 10 folds\n",
    "split = 1\n",
    "scores = []\n",
    "confuse_mat = []\n",
    "for train_index, test_index in cv.split(np.array(X), np.array(y.argmax(axis=1))):\n",
    "    print(f\"Split {split}/10...\")\n",
    "    x_train, y_train = X[train_index], y[train_index]\n",
    "    x_test, y_test = X[test_index], y[test_index]\n",
    "    \n",
    "    \n",
    "    # Fit model and evaluate it\n",
    "    clf.fit(x_train, y_train)\n",
    "    scores.append(clf.score(x_test, y_test))\n",
    "    \n",
    "    # Construct confusion matrix\n",
    "    y_predict = clf.predict(x_test)\n",
    "    confuse_mat.append(confusion_matrix(y_test.argmax(axis=1), y_predict.argmax(axis=1)))\n",
    "    \n",
    "    # Iterate\n",
    "    split = split + 1\n",
    "    \n",
    "print(\"Mean accuracy:\" + str(np.mean(scores)))"
   ]
  },
  {
   "cell_type": "markdown",
   "metadata": {
    "id": "ZG2uK2hZvEh-"
   },
   "source": [
    "## Save Model"
   ]
  },
  {
   "cell_type": "code",
   "execution_count": null,
   "metadata": {
    "executionInfo": {
     "elapsed": 10,
     "status": "aborted",
     "timestamp": 1669076149722,
     "user": {
      "displayName": "Justin Weinmeister",
      "userId": "08097657376930797622"
     },
     "user_tz": 300
    },
    "id": "E4cyLfFqgIY7"
   },
   "outputs": [],
   "source": [
    "import pickle\n",
    "\n",
    "pkl_filename = \"pickle_model.pkl\"\n",
    "\n",
    "# Note, for now this will only store the file in volitle memory in the notebook\n",
    "# To save permanently, most add file path to drive\n",
    "with open(pkl_filename, 'wb') as file:\n",
    "  pickle.dump(clf, file)"
   ]
  },
  {
   "cell_type": "markdown",
   "metadata": {
    "id": "Cuqmt22ZvGh5"
   },
   "source": [
    "## Load Model"
   ]
  },
  {
   "cell_type": "code",
   "execution_count": null,
   "metadata": {
    "executionInfo": {
     "elapsed": 10,
     "status": "aborted",
     "timestamp": 1669076149722,
     "user": {
      "displayName": "Justin Weinmeister",
      "userId": "08097657376930797622"
     },
     "user_tz": 300
    },
    "id": "bdAfRQ1svJ5L"
   },
   "outputs": [],
   "source": [
    "with open(pkl_filename, 'rb') as file:\n",
    "  pickle_model = pickle.load(file)"
   ]
  },
  {
   "cell_type": "code",
   "execution_count": null,
   "metadata": {
    "executionInfo": {
     "elapsed": 11,
     "status": "aborted",
     "timestamp": 1669076149723,
     "user": {
      "displayName": "Justin Weinmeister",
      "userId": "08097657376930797622"
     },
     "user_tz": 300
    },
    "id": "tCb5zXxpvnWi"
   },
   "outputs": [],
   "source": [
    "# Test saved model\n",
    "print(pickle_model.score(x_test, y_test))"
   ]
  },
  {
   "cell_type": "code",
   "execution_count": null,
   "metadata": {},
   "outputs": [],
   "source": []
  }
 ],
 "metadata": {
  "colab": {
   "provenance": []
  },
  "kernelspec": {
   "display_name": "Python 3 (ipykernel)",
   "language": "python",
   "name": "python3"
  },
  "language_info": {
   "codemirror_mode": {
    "name": "ipython",
    "version": 3
   },
   "file_extension": ".py",
   "mimetype": "text/x-python",
   "name": "python",
   "nbconvert_exporter": "python",
   "pygments_lexer": "ipython3",
   "version": "3.8.15"
  },
  "varInspector": {
   "cols": {
    "lenName": 16,
    "lenType": 16,
    "lenVar": 40
   },
   "kernels_config": {
    "python": {
     "delete_cmd_postfix": "",
     "delete_cmd_prefix": "del ",
     "library": "var_list.py",
     "varRefreshCmd": "print(var_dic_list())"
    },
    "r": {
     "delete_cmd_postfix": ") ",
     "delete_cmd_prefix": "rm(",
     "library": "var_list.r",
     "varRefreshCmd": "cat(var_dic_list()) "
    }
   },
   "types_to_exclude": [
    "module",
    "function",
    "builtin_function_or_method",
    "instance",
    "_Feature"
   ],
   "window_display": false
  }
 },
 "nbformat": 4,
 "nbformat_minor": 1
}
